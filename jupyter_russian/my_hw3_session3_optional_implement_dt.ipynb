{
 "cells": [
  {
   "cell_type": "markdown",
   "metadata": {},
   "source": [
    "<center>\n",
    "<img src=\"../../img/ods_stickers.jpg\">\n",
    "## Открытый курс по машинному обучению. Сессия № 3\n",
    "</center>\n",
    "Авторы материала: аспирант Мехмата МГУ Евгений Колмаков, программист-исследователь Mail.ru Group Юрий Кашницкий. Материал распространяется на условиях лицензии [Creative Commons CC BY-NC-SA 4.0](https://creativecommons.org/licenses/by-nc-sa/4.0/). Можно использовать в любых целях (редактировать, поправлять и брать за основу), кроме коммерческих, но с обязательным упоминанием автора материала."
   ]
  },
  {
   "cell_type": "markdown",
   "metadata": {},
   "source": [
    "# <center>Домашнее задание № 3. Опциональная часть \n",
    "## <center> Реализация алгоритма построения дерева решений"
   ]
  },
  {
   "cell_type": "code",
   "execution_count": 293,
   "metadata": {},
   "outputs": [],
   "source": [
    "import numpy as np\n",
    "from matplotlib import pyplot as plt\n",
    "%matplotlib inline\n",
    "from sklearn.base import BaseEstimator\n",
    "from sklearn.datasets import make_classification, make_regression, load_digits, load_boston\n",
    "from sklearn.model_selection import train_test_split, GridSearchCV\n",
    "from sklearn.metrics import accuracy_score, mean_squared_error"
   ]
  },
  {
   "cell_type": "markdown",
   "metadata": {
    "collapsed": true
   },
   "source": [
    "**Необходимо реализовать класс `DecisionTree`**\n",
    "\n",
    "**Спецификация:**\n",
    "- класс наследуется от `sklearn.BaseEstimator`;\n",
    "- конструктор содержит следующие параметры: \n",
    "    `max_depth` - максимальная глубина дерева (по умолчанию - `numpy.inf`); \n",
    "    `min_samples_split` - минимальное число объектов в вершине, при котором происходит её разбиение (по умолчанию - 2); \n",
    "    `criterion` - критерий разбиения (для классификации - 'gini' или 'entropy', для регрессии - 'variance' или 'mad_median'; \n",
    "    по умолчанию - 'gini');\n",
    "    \n",
    "    Функционал, значение которого максимизируется для поиска оптимального разбиения в данной вершине имеет вид\n",
    "    $$Q(X, j, t) = F(X) - \\dfrac{|X_l|}{|X|} F(X_l) - \\dfrac{|X_r|}{|X|} F(X_r),$$\n",
    "    где $X$ - выборка, находящаяся в текущей вершине, $X_l$ и $X_r$ - разбиение выборки $X$ на две части \n",
    "    по предикату $[x_j < t]$, а $F(X)$ -критерий разбиения.\n",
    "    \n",
    "    Для классификации: пусть $p_i$ - доля объектов $i$-го класса в выборке $X$.\n",
    "    \n",
    "    'gini': Неопределенность Джини $F(X) = 1 -\\sum_{i = 1}^K p_i^2$.\n",
    "    \n",
    "    'entropy': Энтропия $F(X) = -\\sum_{i = 1}^K p_i \\log_2(p_i)$.\n",
    "    \n",
    "    Для регрессии: $y_j = y(x_j)$ - ответ на объекте $x_j$, $y = (y_1, \\dots, y_{|X|})$ - вектор ответов.\n",
    "    \n",
    "    'variance': Дисперсия (среднее квадратичное отклонение от среднего) $F(X) = \\dfrac{1}{|X|} \\sum_{x_j \\in X}(y_j - \\dfrac{1}{|X|}\\sum_{x_i \\in X}y_i)^2$\n",
    "    \n",
    "    'mad_median': Среднее отклонение от медианы $F(X) = \\dfrac{1}{|X|} \\sum_{x_j \\in X}|y_j - \\mathrm{med}(y)|$\n",
    "    \n",
    "- класс имеет методы `fit`, `predict` и `predict_proba`;\n",
    "- метод `fit` принимает матрицу объектов `X` и вектор ответов `y` (объекты `numpy.ndarray`) и возвращает экземпляр класса\n",
    "    `DecisionTree`, представляющий собой решающее дерево, обученное по выборке `(X, y)` с учётом заданных в конструкторе параметров; \n",
    "- метод `predict_proba` принимает матрицу объектов `X` и возвращает матрицу `P` размера `X.shape[0] x K`, где `K` - число классов, такую что $p_{ij}$ есть вероятность принадлежности объекта, заданного $i$-ой строкой матрицы X к классу $j \\in \\{1, \\dots, K\\}$.\n",
    "- метод `predict` принимает матрицу объектов и возвращает вектор предсказанных ответов; в случае классификации - это \n",
    "    наиболее многочисленный класс в листе, в который попал объект, а в случае регрессии - среднее значение ответов по \n",
    "    всем объектам этого листа;"
   ]
  },
  {
   "cell_type": "code",
   "execution_count": 294,
   "metadata": {},
   "outputs": [],
   "source": [
    "def prob(y):\n",
    "    _, counts = np.unique(y, return_counts=True)\n",
    "    return counts/len(y)"
   ]
  },
  {
   "cell_type": "code",
   "execution_count": 295,
   "metadata": {},
   "outputs": [],
   "source": [
    "def entropy(y):    \n",
    "    p = prob(y)\n",
    "    return -sum(p*np.log2(p))\n",
    "\n",
    "def gini(y):\n",
    "    return 1 - sum(prob(y)**2)\n",
    "\n",
    "def variance(y):\n",
    "    m = np.mean(y)\n",
    "    return sum((y - m)**2)/len(y)\n",
    "\n",
    "def mad_median(y):\n",
    "    med = np.median(y)\n",
    "    return sum(np.abs(y - med))/len(y)"
   ]
  },
  {
   "cell_type": "code",
   "execution_count": 296,
   "metadata": {},
   "outputs": [
    {
     "data": {
      "text/plain": [
       "(2.0, 0.75, 1.25, 1.0)"
      ]
     },
     "execution_count": 296,
     "metadata": {},
     "output_type": "execute_result"
    }
   ],
   "source": [
    "a = [1,2,3,4]\n",
    "entropy(a), gini(a),  variance(a), mad_median(a)"
   ]
  },
  {
   "cell_type": "code",
   "execution_count": 297,
   "metadata": {},
   "outputs": [],
   "source": [
    "class Leaf():\n",
    "    value_counts = None\n",
    "    is_final = False\n",
    "    left = None\n",
    "    right = None\n",
    "    p_values = None\n",
    "    mean = None\n",
    "    t = None\n",
    "    j = None\n",
    "    Q = None"
   ]
  },
  {
   "cell_type": "code",
   "execution_count": 298,
   "metadata": {},
   "outputs": [],
   "source": [
    "class DecisionTree(BaseEstimator):\n",
    "    \n",
    "    def __init__(self, max_depth=np.inf, min_samples_split=2, \n",
    "                 criterion='gini', debug=False):\n",
    "        self.max_depth=max_depth\n",
    "        self.min_samples_split = min_samples_split\n",
    "        self.criterion = criterion\n",
    "        self.debug = debug\n",
    "    \n",
    "    def fit(self, X, y):\n",
    "        \n",
    "        if self.criterion == 'gini':\n",
    "            self.F = gini\n",
    "        elif self.criterion == 'entropy':\n",
    "            self.F = entropy\n",
    "        elif self.criterion == 'variance':\n",
    "            self.F = variance\n",
    "        elif self.criterion == 'mad_median':\n",
    "            self.F = mad_median\n",
    "        else:\n",
    "            raise ValueError('Unknown criterion')\n",
    "            \n",
    "        if self.max_depth < 1:\n",
    "            raise ValueError('max_depth should be at least 1')    \n",
    "\n",
    "        # Построим список уникальных классов\n",
    "        self.classes = np.unique(y)\n",
    "                             \n",
    "        # Построение дерева проще всего сделать итеративным\n",
    "        self.tree = self.create_leaf(X, y, 0)\n",
    "         \n",
    "        return self\n",
    "        \n",
    "            \n",
    "    def create_leaf(self, X, y, cur_depth):\n",
    "        \n",
    "        # Внутри каждого поддерева\n",
    "        l = Leaf()\n",
    "                        \n",
    "        # Проверить критерии выхода - min_samples_split, max_depth, все элементы одного класса\n",
    "        if len(y) < self.min_samples_split or cur_depth >= self.max_depth or len(np.unique(y)) == 1 \\\n",
    "            or self.no_unique_t(X):\n",
    "            # Если это конец, подсчитать среднее (для регрессии), p для всех классов (для классификации)\n",
    "            l.is_final = True\n",
    "                             \n",
    "            # Регрессия\n",
    "            if self.criterion in ('variance','mad_median'):\n",
    "                l.mean = np.mean(y)\n",
    "            # Классификация\n",
    "            else:\n",
    "                l.p_values = []\n",
    "                for c in self.classes:\n",
    "                    l.p_values.append(sum(y == c)/len(y))                \n",
    "        else:\n",
    "            # Если нет, то найти лучшее разбиение, и отправить в рекурсивный поиск по долям\n",
    "            Xl, yl, Xr, yr, l.Q, l.j, l.t = self.find_split(X,y)\n",
    "            \n",
    "            l.left = self.create_leaf(Xl, yl, cur_depth + 1)\n",
    "            l.right = self.create_leaf(Xr, yr, cur_depth + 1)\n",
    "        \n",
    "            l.value_counts = (len(yl),len(yr))\n",
    "        \n",
    "        return l\n",
    "    \n",
    "    def no_unique_t(self, X):\n",
    "        \n",
    "        result = True\n",
    "        \n",
    "        for j in range(X.shape[1]):\n",
    "            if len(np.unique(X[:,j])) > 1:\n",
    "                result = False\n",
    "        \n",
    "        return result\n",
    "            \n",
    "    \n",
    "    def find_split(self, X, y):\n",
    "        \n",
    "        Q_max = -np.inf\n",
    "        t_max = -np.inf\n",
    "        j_max = -1\n",
    "        \n",
    "        F = self.F\n",
    "        \n",
    "        # Для каждого признака сделать поиск по значениям\n",
    "        for j in range(X.shape[1]):\n",
    "            \n",
    "            if self.debug:\n",
    "                print('j', j)\n",
    "                print('X', X)\n",
    "                print('X.shape[1]',X.shape[1])\n",
    "            \n",
    "            \n",
    "            # Отобрать все значения признака\n",
    "            # Отсортировать вместе с y (* найти только те, при которых меняется признак)\n",
    "            # Найти уникальные\n",
    "            Xju = np.unique(X[:,j])\n",
    "            \n",
    "            # Найти t значения между уникальными \n",
    "            t_candidates = (Xju[:-1] + Xju[1:])/2\n",
    "            \n",
    "            if self.debug:\n",
    "                print('t_candidates', t_candidates)\n",
    "            \n",
    "            # Перебрать все значения t для признака\n",
    "            for t in t_candidates:\n",
    "                \n",
    "                # Расчитаем Q\n",
    "                yl = y[X[:,j] < t]\n",
    "                yr = y[X[:,j] >= t]\n",
    "\n",
    "                Q = F(y) - (len(yl)/len(y))*F(yl) - (len(yr)/len(y))*F(yr)\n",
    "            \n",
    "                if self.debug:\n",
    "                    print('Max j:{} t:{} Q:{}'.format(j, t, Q))\n",
    "            \n",
    "                # Если признак и порог t максимизируют Q_max, использовать его как новый максимум\n",
    "                if Q > Q_max:\n",
    "                    Q_max = Q\n",
    "                    t_max = t\n",
    "                    j_max = j\n",
    "\n",
    "        # На основе найденного признака вернем Xl, yl, Xr, yr, Q_max, j, t\n",
    "        Xl = X[X[:,j_max] < t_max]\n",
    "        yl = y[X[:,j_max] < t_max]\n",
    "        Xr = X[X[:,j_max] >= t_max]\n",
    "        yr = y[X[:,j_max] >= t_max]\n",
    "        \n",
    "        return Xl, yl, Xr, yr, Q_max, j_max, t_max\n",
    "    \n",
    "    \n",
    "    def predict(self, X):\n",
    "        \n",
    "        result = []\n",
    "        \n",
    "        for Xv in X:\n",
    "            leaf = self.get_final_leaf(self.tree, Xv)\n",
    "        \n",
    "            # Регрессия\n",
    "            if self.criterion in ('variance','mad_median'):\n",
    "                result.append(leaf.mean)\n",
    "            # Классификация\n",
    "            else:\n",
    "                result.append(self.classes[np.argmax(leaf.p_values)])\n",
    "                \n",
    "        return result\n",
    "        \n",
    "    \n",
    "    def get_final_leaf(self, leaf, Xv):\n",
    "        \n",
    "        if leaf.is_final == True:\n",
    "            return leaf\n",
    "        \n",
    "        else:\n",
    "            if Xv[leaf.j] < leaf.t:\n",
    "                return self.get_final_leaf(leaf.left, Xv)\n",
    "            else:\n",
    "                return self.get_final_leaf(leaf.right, Xv)\n",
    "        \n",
    "        \n",
    "    def predict_proba(self, X):\n",
    "        \n",
    "        if self.criterion in ('variance','mad_median'):\n",
    "            raise Exception('Unable to calculate probabilities for exceptions')\n",
    "        \n",
    "        result = np.arange(len(df_opt.classes))\n",
    "        \n",
    "        for Xv in X:\n",
    "            leaf = self.get_final_leaf(self.tree, Xv)\n",
    "\n",
    "            result = np.vstack((result, leaf.p_values))\n",
    "            \n",
    "            if self.debug:\n",
    "                print('leaf.p_values', leaf.p_values)\n",
    "        \n",
    "        result = result[1:,:]\n",
    "            \n",
    "        return result"
   ]
  },
  {
   "cell_type": "markdown",
   "metadata": {},
   "source": [
    "## Тестирование реализованного алгоритма"
   ]
  },
  {
   "cell_type": "markdown",
   "metadata": {},
   "source": [
    "### Классификация"
   ]
  },
  {
   "cell_type": "markdown",
   "metadata": {},
   "source": [
    "С помощью метода `load_digits` загрузите датасет `digits`. Разделите выборку на обучающую и тестовую с помощью метода `train_test_split`, используйте значения параметров `test_size=0.2`, `random_state=17`. Попробуйте обучить неглубокие решающие деревья и убедитесь, что критерии gini и entropy дают разные результаты."
   ]
  },
  {
   "cell_type": "code",
   "execution_count": 299,
   "metadata": {},
   "outputs": [],
   "source": [
    "digits = load_digits()"
   ]
  },
  {
   "cell_type": "code",
   "execution_count": 300,
   "metadata": {},
   "outputs": [
    {
     "name": "stdout",
     "output_type": "stream",
     "text": [
      "CPU times: user 5 s, sys: 0 ns, total: 5 s\n",
      "Wall time: 5 s\n"
     ]
    },
    {
     "data": {
      "text/plain": [
       "DecisionTree(criterion='gini', debug=False, max_depth=inf,\n",
       "       min_samples_split=2)"
      ]
     },
     "execution_count": 300,
     "metadata": {},
     "output_type": "execute_result"
    }
   ],
   "source": [
    "dt = DecisionTree()\n",
    "%time dt.fit(digits.data, digits.target)"
   ]
  },
  {
   "cell_type": "code",
   "execution_count": 301,
   "metadata": {},
   "outputs": [],
   "source": [
    "X_train, X_valid, y_train, y_valid = train_test_split(digits.data, digits.target, test_size=0.2, random_state=17)"
   ]
  },
  {
   "cell_type": "code",
   "execution_count": 302,
   "metadata": {},
   "outputs": [
    {
     "data": {
      "text/plain": [
       "((1437, 64), (360, 64), (1437,), (360,))"
      ]
     },
     "execution_count": 302,
     "metadata": {},
     "output_type": "execute_result"
    }
   ],
   "source": [
    "X_train.shape, X_valid.shape, y_train.shape, y_valid.shape"
   ]
  },
  {
   "cell_type": "markdown",
   "metadata": {},
   "source": [
    "С помощью 5-кратной кросс-валидации (`GridSearchCV`) подберите оптимальное значение параметров `max_depth` и `criterion`. Для параметра `max_depth` используйте диапазон значений - range(3, 11), а для criterion - {'gini', 'entropy'}. Критерий качества `scoring`='accuracy'."
   ]
  },
  {
   "cell_type": "code",
   "execution_count": 303,
   "metadata": {},
   "outputs": [
    {
     "name": "stdout",
     "output_type": "stream",
     "text": [
      "Fitting 5 folds for each of 16 candidates, totalling 80 fits\n"
     ]
    },
    {
     "name": "stderr",
     "output_type": "stream",
     "text": [
      "[Parallel(n_jobs=-1)]: Done  42 tasks      | elapsed:   42.3s\n",
      "[Parallel(n_jobs=-1)]: Done  80 out of  80 | elapsed:  1.4min finished\n"
     ]
    },
    {
     "data": {
      "text/plain": [
       "GridSearchCV(cv=5, error_score='raise',\n",
       "       estimator=DecisionTree(criterion='gini', debug=False, max_depth=inf,\n",
       "       min_samples_split=2),\n",
       "       fit_params=None, iid=True, n_jobs=-1,\n",
       "       param_grid={'criterion': ['gini', 'entropy'], 'max_depth': [3, 4, 5, 6, 7, 8, 9, 10]},\n",
       "       pre_dispatch='2*n_jobs', refit=True, return_train_score=True,\n",
       "       scoring='accuracy', verbose=True)"
      ]
     },
     "execution_count": 303,
     "metadata": {},
     "output_type": "execute_result"
    }
   ],
   "source": [
    "tree = DecisionTree()\n",
    "tree_params = {'max_depth': list(range(3, 11)), 'criterion':['gini', 'entropy']}\n",
    "\n",
    "tree_grid = GridSearchCV(tree, tree_params, cv=5, n_jobs=-1, verbose=True, scoring='accuracy')\n",
    "tree_grid.fit(X_train, y_train)"
   ]
  },
  {
   "cell_type": "markdown",
   "metadata": {},
   "source": [
    "Постройте графики средних значений критерия качества `accuracy` для критериев `gini` и `entropy` в зависимости от `max_depth`."
   ]
  },
  {
   "cell_type": "code",
   "execution_count": 304,
   "metadata": {},
   "outputs": [],
   "source": [
    "scores_gini = tree_grid.cv_results_['mean_test_score'][tree_grid.cv_results_['param_criterion'] == 'gini']\n",
    "scores_entropy = tree_grid.cv_results_['mean_test_score'][tree_grid.cv_results_['param_criterion'] == 'entropy']\n",
    "max_depth_gini = tree_grid.cv_results_['param_max_depth'][tree_grid.cv_results_['param_criterion'] == 'gini']"
   ]
  },
  {
   "cell_type": "code",
   "execution_count": 305,
   "metadata": {},
   "outputs": [
    {
     "data": {
      "image/png": "[encoded data removed]",
      "text/plain": [
       "<matplotlib.figure.Figure at 0x7f0984c80c18>"
      ]
     },
     "metadata": {},
     "output_type": "display_data"
    }
   ],
   "source": [
    "plt.figure(figsize=(8,6))\n",
    "plt.plot(range(3,11), scores_gini, range(3,11), scores_entropy)\n",
    "plt.legend(labels=['gini','entropy']);\n"
   ]
  },
  {
   "cell_type": "markdown",
   "metadata": {},
   "source": [
    "**Выберите верные утверждения:**\n",
    "1. Оптимальное значение max_depth для каждого критерия достигается внутри отрезка [3, 10] (то есть на отрезке [4, 9]).\n",
    "2. На отрезке [3, 10] построенные графики не пересекаются.\n",
    "3. На отрезке [3, 10] построенные графики пересекаются ровно один раз.\n",
    "4. Наилучшее качество при max_depth на интервале [3, 10] достигается на критерии gini.\n",
    "5. Хотя бы для одного из критериев значение accuracy строго возрастает с ростом значения max_depth на интервале [3, 10]."
   ]
  },
  {
   "cell_type": "markdown",
   "metadata": {},
   "source": [
    "Ответ: 1,2"
   ]
  },
  {
   "cell_type": "markdown",
   "metadata": {},
   "source": [
    "**Чему равны найденные оптимальные значения параметров max_depth и criterion?**\n",
    "1. max_depth = 4, criterion = 'gini';\n",
    "2. max_depth = 7, criterion = 'entropy';\n",
    "3. max_depth = 10, criterion = 'entropy';\n",
    "4. max_depth = 10, criterion = 'gini';\n",
    "5. max_depth = 3, criterion = 'entropy';\n",
    "6. max_depth = 9, criterion = 'gini';"
   ]
  },
  {
   "cell_type": "markdown",
   "metadata": {},
   "source": [
    "Ответ: 'criterion': 'entropy', 'max_depth': 8"
   ]
  },
  {
   "cell_type": "code",
   "execution_count": 307,
   "metadata": {},
   "outputs": [
    {
     "data": {
      "text/plain": [
       "{'criterion': 'entropy', 'max_depth': 8}"
      ]
     },
     "execution_count": 307,
     "metadata": {},
     "output_type": "execute_result"
    }
   ],
   "source": [
    "tree_grid.best_params_"
   ]
  },
  {
   "cell_type": "markdown",
   "metadata": {},
   "source": [
    "Используя найденные оптимальные значения max_depth и criterion, обучите решающее дерево на X_train, y_train и вычислите вероятности принадлежности к классам для X_test."
   ]
  },
  {
   "cell_type": "code",
   "execution_count": 308,
   "metadata": {},
   "outputs": [
    {
     "data": {
      "text/plain": [
       "DecisionTree(criterion='entropy', debug=False, max_depth=8,\n",
       "       min_samples_split=2)"
      ]
     },
     "execution_count": 308,
     "metadata": {},
     "output_type": "execute_result"
    }
   ],
   "source": [
    "df_opt2 = DecisionTree(max_depth=8, criterion='entropy')\n",
    "df_opt2.fit(X_train, y_train)"
   ]
  },
  {
   "cell_type": "code",
   "execution_count": 309,
   "metadata": {},
   "outputs": [],
   "source": [
    "res2 = df_opt2.predict(X_valid)"
   ]
  },
  {
   "cell_type": "code",
   "execution_count": 310,
   "metadata": {},
   "outputs": [
    {
     "data": {
      "text/plain": [
       "([1, 8, 7, 1, 9, 5, 8, 9, 8, 1], array([1, 2, 7, 3, 9, 5, 8, 9, 8, 1]))"
      ]
     },
     "execution_count": 310,
     "metadata": {},
     "output_type": "execute_result"
    }
   ],
   "source": [
    "res2[0:10], y_valid[0:10]"
   ]
  },
  {
   "cell_type": "code",
   "execution_count": 311,
   "metadata": {
    "scrolled": false
   },
   "outputs": [
    {
     "data": {
      "image/png": "[encoded data removed]",
      "text/plain": [
       "<matplotlib.figure.Figure at 0x7f09849c6550>"
      ]
     },
     "metadata": {},
     "output_type": "display_data"
    }
   ],
   "source": [
    "for i in range(10):    \n",
    "    plt.subplot(2,5, i+1)\n",
    "    plt.imshow(np.reshape(X_valid[i],(8,8)))\n",
    "    plt.axis('off');\n",
    "    plt.title('T:{} P:{}'.format(y_valid[i], res2[i]))\n",
    "    \n",
    "    "
   ]
  },
  {
   "cell_type": "code",
   "execution_count": 312,
   "metadata": {},
   "outputs": [
    {
     "data": {
      "text/plain": [
       "0.8777777777777778"
      ]
     },
     "execution_count": 312,
     "metadata": {},
     "output_type": "execute_result"
    }
   ],
   "source": [
    "accuracy_score(y_valid, df_opt2.predict(X_valid))"
   ]
  },
  {
   "cell_type": "code",
   "execution_count": 313,
   "metadata": {},
   "outputs": [],
   "source": [
    "result = df_opt2.predict_proba(X_valid)"
   ]
  },
  {
   "cell_type": "code",
   "execution_count": 314,
   "metadata": {},
   "outputs": [
    {
     "data": {
      "text/plain": [
       "array([0.09166667, 0.07422504, 0.10021605, 0.08930086, 0.12690476,\n",
       "       0.11898148, 0.07916667, 0.09583333, 0.11076173, 0.11294341])"
      ]
     },
     "execution_count": 314,
     "metadata": {},
     "output_type": "execute_result"
    }
   ],
   "source": [
    "np.mean(result, axis=0)"
   ]
  },
  {
   "cell_type": "code",
   "execution_count": 315,
   "metadata": {},
   "outputs": [
    {
     "data": {
      "text/plain": [
       "0.12690476190476194"
      ]
     },
     "execution_count": 315,
     "metadata": {},
     "output_type": "execute_result"
    }
   ],
   "source": [
    "np.max(np.mean(result, axis=0))"
   ]
  },
  {
   "cell_type": "markdown",
   "metadata": {},
   "source": [
    "Для полученной матрицы вычислите усредненные по всем объектам из `X_test` значения вероятностей принадлежности к классам."
   ]
  },
  {
   "cell_type": "markdown",
   "metadata": {},
   "source": [
    "**Вопрос:** Чему равна максимальная вероятность в полученном векторе?\n",
    "1. 0.11218791\n",
    "2. 0.11783761\n",
    "3. 1.0\n",
    "4. 0.0875"
   ]
  },
  {
   "cell_type": "markdown",
   "metadata": {},
   "source": [
    "Ответ: 0.12690476190476194, не совпадает с вариантами."
   ]
  },
  {
   "cell_type": "markdown",
   "metadata": {},
   "source": [
    "### Регрессия"
   ]
  },
  {
   "cell_type": "markdown",
   "metadata": {},
   "source": [
    "С помощью метода `load_boston` загрузите датасет `boston`. Разделите выборку на обучающую и тестовую с помощью метода `train_test_split`, используйте значения параметров `test_size=0.2`, `random_state=17`. Попробуйте обучить неглубокие регрессионные деревья и убедитесь, что критерии `variance` и `mad_median` дают разные результаты."
   ]
  },
  {
   "cell_type": "code",
   "execution_count": 316,
   "metadata": {},
   "outputs": [],
   "source": [
    "boston=load_boston()"
   ]
  },
  {
   "cell_type": "code",
   "execution_count": 317,
   "metadata": {},
   "outputs": [],
   "source": [
    "X_train, X_valid, y_train, y_valid = train_test_split(boston.data, boston.target, test_size=0.2, random_state=17)"
   ]
  },
  {
   "cell_type": "code",
   "execution_count": 318,
   "metadata": {},
   "outputs": [
    {
     "data": {
      "text/plain": [
       "{'Q': 38.22046447905717,\n",
       " 'j': 5,\n",
       " 'left': <__main__.Leaf at 0x7f0986f7efd0>,\n",
       " 'right': <__main__.Leaf at 0x7f09850bd710>,\n",
       " 't': 6.941,\n",
       " 'value_counts': (430, 76)}"
      ]
     },
     "execution_count": 318,
     "metadata": {},
     "output_type": "execute_result"
    }
   ],
   "source": [
    "dt1 = DecisionTree(criterion='variance', max_depth=3)\n",
    "dt1.fit(boston.data, boston.target)\n",
    "vars(dt1.tree)"
   ]
  },
  {
   "cell_type": "code",
   "execution_count": 319,
   "metadata": {},
   "outputs": [
    {
     "data": {
      "text/plain": [
       "{'Q': 1.554347826086955,\n",
       " 'j': 5,\n",
       " 'left': <__main__.Leaf at 0x7f0984944c50>,\n",
       " 'right': <__main__.Leaf at 0x7f09849e57b8>,\n",
       " 't': 6.797,\n",
       " 'value_counts': (413, 93)}"
      ]
     },
     "execution_count": 319,
     "metadata": {},
     "output_type": "execute_result"
    }
   ],
   "source": [
    "dt2 = DecisionTree(criterion='mad_median', max_depth=3)\n",
    "dt2.fit(boston.data, boston.target)\n",
    "vars(dt2.tree)"
   ]
  },
  {
   "cell_type": "markdown",
   "metadata": {},
   "source": [
    "С помощью 5-кратной кросс-валидации подберите оптимальное значение параметров `max_depth` и `criterion`. Для параметра `max_depth` используйте диапазон значений - `range(2, 9)`, а для `criterion` - {'variance', 'mad_median'}. Критерий качества `scoring`='neg_mean_squared_error'."
   ]
  },
  {
   "cell_type": "code",
   "execution_count": 320,
   "metadata": {},
   "outputs": [
    {
     "name": "stdout",
     "output_type": "stream",
     "text": [
      "Fitting 5 folds for each of 14 candidates, totalling 70 fits\n"
     ]
    },
    {
     "name": "stderr",
     "output_type": "stream",
     "text": [
      "[Parallel(n_jobs=-1)]: Done  42 tasks      | elapsed:   18.8s\n",
      "[Parallel(n_jobs=-1)]: Done  70 out of  70 | elapsed:   49.1s finished\n"
     ]
    },
    {
     "data": {
      "text/plain": [
       "GridSearchCV(cv=5, error_score='raise',\n",
       "       estimator=DecisionTree(criterion='gini', debug=False, max_depth=inf,\n",
       "       min_samples_split=2),\n",
       "       fit_params=None, iid=True, n_jobs=-1,\n",
       "       param_grid={'criterion': ['variance', 'mad_median'], 'max_depth': [2, 3, 4, 5, 6, 7, 8]},\n",
       "       pre_dispatch='2*n_jobs', refit=True, return_train_score=True,\n",
       "       scoring='neg_mean_squared_error', verbose=True)"
      ]
     },
     "execution_count": 320,
     "metadata": {},
     "output_type": "execute_result"
    }
   ],
   "source": [
    "tree = DecisionTree()\n",
    "tree_params = {'max_depth': list(range(2, 9)), 'criterion':['variance', 'mad_median']}\n",
    "\n",
    "tree_grid = GridSearchCV(tree, tree_params, cv=5, n_jobs=-1, verbose=True, scoring='neg_mean_squared_error')\n",
    "tree_grid.fit(X_train, y_train)"
   ]
  },
  {
   "cell_type": "code",
   "execution_count": 321,
   "metadata": {},
   "outputs": [],
   "source": [
    "scores_variance = tree_grid.cv_results_['mean_test_score'][tree_grid.cv_results_['param_criterion'] == 'variance']\n",
    "scores_mad_median = tree_grid.cv_results_['mean_test_score'][tree_grid.cv_results_['param_criterion'] == 'mad_median']"
   ]
  },
  {
   "cell_type": "markdown",
   "metadata": {},
   "source": [
    "Постройте графики средних значений критерия качества `neg_mean_squared_error` для критериев `variance` и `mad_median` в зависимости от `max_depth`."
   ]
  },
  {
   "cell_type": "code",
   "execution_count": 322,
   "metadata": {},
   "outputs": [
    {
     "data": {
      "image/png": "[encoded data removed]",
      "text/plain": [
       "<matplotlib.figure.Figure at 0x7f0985417da0>"
      ]
     },
     "metadata": {},
     "output_type": "display_data"
    }
   ],
   "source": [
    "plt.figure(figsize=(8,6))\n",
    "plt.plot(range(2,9), scores_variance, range(2,9), scores_mad_median)\n",
    "plt.legend(labels=['variance','mad_median']);"
   ]
  },
  {
   "cell_type": "markdown",
   "metadata": {},
   "source": [
    "**Выберите верные утверждения:**\n",
    "1. На отрезке [2, 8] построенные графики не пересекаются.\n",
    "2. На отрезке [2, 8] построенные графики пересекаются ровно один раз.\n",
    "3. Оптимальное значение max_depth для каждого из критериев достигается на границе отрезка [2, 8].\n",
    "4. Наилучшее качество при max_depth in range(2, 9) достигается на критерии variance.\n",
    "5. График качества ровно для одного из критериев имеет явно выраженный пик."
   ]
  },
  {
   "cell_type": "markdown",
   "metadata": {},
   "source": [
    "Ответ: 2,3,5"
   ]
  },
  {
   "cell_type": "markdown",
   "metadata": {},
   "source": [
    "**Чему равны найденные оптимальные значения параметров `max_depth` и `criterion`?**\n",
    "1. max_depth = 9, criterion = 'variance';\n",
    "2. max_depth = 5, criterion = 'mad_median';\n",
    "3. max_depth = 4, criterion = 'variance';\n",
    "4. max_depth = 2, criterion = 'mad_median';\n",
    "5. max_depth = 4, criterion = 'mad_median';\n",
    "6. max_depth = 8, criterion = 'variance';"
   ]
  },
  {
   "cell_type": "markdown",
   "metadata": {},
   "source": [
    "Ответ: 'criterion': 'mad_median', 'max_depth': 4"
   ]
  },
  {
   "cell_type": "code",
   "execution_count": 323,
   "metadata": {},
   "outputs": [
    {
     "data": {
      "text/plain": [
       "{'criterion': 'mad_median', 'max_depth': 4}"
      ]
     },
     "execution_count": 323,
     "metadata": {},
     "output_type": "execute_result"
    }
   ],
   "source": [
    "tree_grid.best_params_"
   ]
  }
 ],
 "metadata": {
  "kernelspec": {
   "display_name": "Python 3",
   "language": "python",
   "name": "python3"
  },
  "language_info": {
   "codemirror_mode": {
    "name": "ipython",
    "version": 3
   },
   "file_extension": ".py",
   "mimetype": "text/x-python",
   "name": "python",
   "nbconvert_exporter": "python",
   "pygments_lexer": "ipython3",
   "version": "3.5.2"
  },
  "name": "lesson4_part2_Decision_trees.ipynb"
 },
 "nbformat": 4,
 "nbformat_minor": 1
}
