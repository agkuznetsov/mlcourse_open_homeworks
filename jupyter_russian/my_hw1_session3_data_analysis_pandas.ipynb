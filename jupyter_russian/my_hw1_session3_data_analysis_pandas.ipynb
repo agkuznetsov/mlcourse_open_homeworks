{
 "cells": [
  {
   "cell_type": "markdown",
   "metadata": {},
   "source": [
    "<center>\n",
    "<img src=\"../../img/ods_stickers.jpg\">\n",
    "## Открытый курс по машинному обучению. Сессия № 3\n",
    "Автор материала: программист-исследователь Mail.ru Group, старший преподаватель Факультета Компьютерных Наук ВШЭ Юрий Кашницкий. Материал распространяется на условиях лицензии [Creative Commons CC BY-NC-SA 4.0](https://creativecommons.org/licenses/by-nc-sa/4.0/). Можно использовать в любых целях (редактировать, поправлять и брать за основу), кроме коммерческих, но с обязательным упоминанием автора материала."
   ]
  },
  {
   "cell_type": "markdown",
   "metadata": {},
   "source": [
    "# <center> Домашнее задание № 1\n",
    "## <center> Анализ данных по сердечно-сосудистым заболеваниям\n",
    "*Идеальный просмотр Jupyter notebooks возможен только локально, GitHub и nbviewer могут неправильно отбражать формулы или картинки.*"
   ]
  },
  {
   "cell_type": "markdown",
   "metadata": {},
   "source": [
    "**В задании предлагается с помощью Pandas ответить на несколько вопросов по данным о сердечно-сосудистых заболеваниях (качать данные не надо, они уже есть в репозитории). Данные использовались в соревновании [Ml Boot Camp 5](http://mlbootcamp.ru/round/12/sandbox/).**\n",
    "\n",
    "**Заполните код в клетках (где написано \"Ваш код здесь\") и ответьте на вопросы в [веб-форме](https://docs.google.com/forms/d/1KbWiGlupiSwYlqc8nmV6KjB3vNTI0C5hxZ6Tq3ZU4QA).**"
   ]
  },
  {
   "cell_type": "markdown",
   "metadata": {},
   "source": [
    "В соревновании предлагалось определить наличие/отсутствие сердечно-сосудистых заболеваний (ССЗ) по результатам осмотра пациента.\n",
    "\n",
    "**Описание данных.**\n",
    "\n",
    "Датасет сформирован из реальных клинических анализов, и в нём используются признаки, которые можно разбить на 3 группы:\n",
    "\n",
    "Объективные признаки:\n",
    "\n",
    " - Возраст (age)\n",
    " - Рост (height)\n",
    " - Вес (weight)\n",
    " - Пол (gender)\n",
    " \n",
    "\n",
    "Результаты измерения:\n",
    "\n",
    " - Артериальное давление верхнее и нижнее (ap_hi, ap_lo)\n",
    " - Холестерин (cholesterol)\n",
    " - Глюкоза (gluc)\n",
    " \n",
    "\n",
    "Субъективные признаки (со слов пациентов):\n",
    "\n",
    " - Курение (smoke)\n",
    " - Употребление алкоголя (alco)\n",
    " - Физическая активность (active)\n",
    " \n",
    "Целевой признак (который интересно будет прогнозировать):\n",
    " - Наличие сердечно-сосудистых заболеваний по результатам классического врачебного осмотра (cardio)\n",
    "\n",
    "Значения показателей холестерина и глюкозы представлены одним из трех классов: норма, выше нормы, значительно выше нормы. Значения субъективных признаков — бинарны.\n",
    "\n",
    "Все показатели даны на момент осмотра.\n",
    "\n",
    "Мы будем работать только с обучающей выборкой и с помощью `Pandas` проведем первичный анализ данных. "
   ]
  },
  {
   "cell_type": "markdown",
   "metadata": {},
   "source": [
    "Из библиотек нам понадобятся только `NumPy` и `Pandas`."
   ]
  },
  {
   "cell_type": "code",
   "execution_count": 2,
   "metadata": {},
   "outputs": [],
   "source": [
    "%matplotlib inline\n",
    "\n",
    "import numpy as np\n",
    "import pandas as pd\n",
    "import matplotlib.pyplot as plt"
   ]
  },
  {
   "cell_type": "markdown",
   "metadata": {},
   "source": [
    "Считываем данные из CSV-файла в объект pandas DataFrame.  "
   ]
  },
  {
   "cell_type": "code",
   "execution_count": 3,
   "metadata": {},
   "outputs": [],
   "source": [
    "df = pd.read_csv('../../data/mlbootcamp5_train.csv', sep=';', \n",
    "                 index_col='id')"
   ]
  },
  {
   "cell_type": "markdown",
   "metadata": {},
   "source": [
    "Посмотрим на первые 5 записей."
   ]
  },
  {
   "cell_type": "code",
   "execution_count": 3,
   "metadata": {},
   "outputs": [
    {
     "data": {
      "text/html": [
       "<div>\n",
       "<style scoped>\n",
       "    .dataframe tbody tr th:only-of-type {\n",
       "        vertical-align: middle;\n",
       "    }\n",
       "\n",
       "    .dataframe tbody tr th {\n",
       "        vertical-align: top;\n",
       "    }\n",
       "\n",
       "    .dataframe thead th {\n",
       "        text-align: right;\n",
       "    }\n",
       "</style>\n",
       "<table border=\"1\" class=\"dataframe\">\n",
       "  <thead>\n",
       "    <tr style=\"text-align: right;\">\n",
       "      <th></th>\n",
       "      <th>age</th>\n",
       "      <th>gender</th>\n",
       "      <th>height</th>\n",
       "      <th>weight</th>\n",
       "      <th>ap_hi</th>\n",
       "      <th>ap_lo</th>\n",
       "      <th>cholesterol</th>\n",
       "      <th>gluc</th>\n",
       "      <th>smoke</th>\n",
       "      <th>alco</th>\n",
       "      <th>active</th>\n",
       "      <th>cardio</th>\n",
       "    </tr>\n",
       "    <tr>\n",
       "      <th>id</th>\n",
       "      <th></th>\n",
       "      <th></th>\n",
       "      <th></th>\n",
       "      <th></th>\n",
       "      <th></th>\n",
       "      <th></th>\n",
       "      <th></th>\n",
       "      <th></th>\n",
       "      <th></th>\n",
       "      <th></th>\n",
       "      <th></th>\n",
       "      <th></th>\n",
       "    </tr>\n",
       "  </thead>\n",
       "  <tbody>\n",
       "    <tr>\n",
       "      <th>0</th>\n",
       "      <td>18393</td>\n",
       "      <td>2</td>\n",
       "      <td>168</td>\n",
       "      <td>62.0</td>\n",
       "      <td>110</td>\n",
       "      <td>80</td>\n",
       "      <td>1</td>\n",
       "      <td>1</td>\n",
       "      <td>0</td>\n",
       "      <td>0</td>\n",
       "      <td>1</td>\n",
       "      <td>0</td>\n",
       "    </tr>\n",
       "    <tr>\n",
       "      <th>1</th>\n",
       "      <td>20228</td>\n",
       "      <td>1</td>\n",
       "      <td>156</td>\n",
       "      <td>85.0</td>\n",
       "      <td>140</td>\n",
       "      <td>90</td>\n",
       "      <td>3</td>\n",
       "      <td>1</td>\n",
       "      <td>0</td>\n",
       "      <td>0</td>\n",
       "      <td>1</td>\n",
       "      <td>1</td>\n",
       "    </tr>\n",
       "    <tr>\n",
       "      <th>2</th>\n",
       "      <td>18857</td>\n",
       "      <td>1</td>\n",
       "      <td>165</td>\n",
       "      <td>64.0</td>\n",
       "      <td>130</td>\n",
       "      <td>70</td>\n",
       "      <td>3</td>\n",
       "      <td>1</td>\n",
       "      <td>0</td>\n",
       "      <td>0</td>\n",
       "      <td>0</td>\n",
       "      <td>1</td>\n",
       "    </tr>\n",
       "    <tr>\n",
       "      <th>3</th>\n",
       "      <td>17623</td>\n",
       "      <td>2</td>\n",
       "      <td>169</td>\n",
       "      <td>82.0</td>\n",
       "      <td>150</td>\n",
       "      <td>100</td>\n",
       "      <td>1</td>\n",
       "      <td>1</td>\n",
       "      <td>0</td>\n",
       "      <td>0</td>\n",
       "      <td>1</td>\n",
       "      <td>1</td>\n",
       "    </tr>\n",
       "    <tr>\n",
       "      <th>4</th>\n",
       "      <td>17474</td>\n",
       "      <td>1</td>\n",
       "      <td>156</td>\n",
       "      <td>56.0</td>\n",
       "      <td>100</td>\n",
       "      <td>60</td>\n",
       "      <td>1</td>\n",
       "      <td>1</td>\n",
       "      <td>0</td>\n",
       "      <td>0</td>\n",
       "      <td>0</td>\n",
       "      <td>0</td>\n",
       "    </tr>\n",
       "  </tbody>\n",
       "</table>\n",
       "</div>"
      ],
      "text/plain": [
       "      age  gender  height  weight  ap_hi  ap_lo  cholesterol  gluc  smoke  \\\n",
       "id                                                                          \n",
       "0   18393       2     168    62.0    110     80            1     1      0   \n",
       "1   20228       1     156    85.0    140     90            3     1      0   \n",
       "2   18857       1     165    64.0    130     70            3     1      0   \n",
       "3   17623       2     169    82.0    150    100            1     1      0   \n",
       "4   17474       1     156    56.0    100     60            1     1      0   \n",
       "\n",
       "    alco  active  cardio  \n",
       "id                        \n",
       "0      0       1       0  \n",
       "1      0       1       1  \n",
       "2      0       0       1  \n",
       "3      0       1       1  \n",
       "4      0       0       0  "
      ]
     },
     "execution_count": 3,
     "metadata": {},
     "output_type": "execute_result"
    }
   ],
   "source": [
    "df.head()"
   ]
  },
  {
   "cell_type": "markdown",
   "metadata": {},
   "source": [
    "**<font color='red'>Вопрос 1 (1 балл).</font> Сколько мужчин и женщин представлено в этом наборе данных? Не было дано расшифровки признака \"пол\" (какому полу соответствует 1, а какому – 2 в признаке ``gender``) – это определите, посмотрев также на рост при разумном предположении, что в среднем мужчины выше (здесь и далее под средним понимается среднее арифметическое).**"
   ]
  },
  {
   "cell_type": "markdown",
   "metadata": {},
   "source": [
    "**<font color='red'>Варианты:</font>**\n",
    "- 45470 женщин и 24530 мужчин\n",
    "- 45470 мужчин и 24530 женщин\n",
    "- 45530 женщин и 24470 мужчин\n",
    "- 45530 мужчин и 24470 женщин"
   ]
  },
  {
   "cell_type": "code",
   "execution_count": 9,
   "metadata": {},
   "outputs": [
    {
     "data": {
      "text/plain": [
       "gender\n",
       "1    161.355612\n",
       "2    169.947895\n",
       "Name: height, dtype: float64"
      ]
     },
     "execution_count": 9,
     "metadata": {},
     "output_type": "execute_result"
    }
   ],
   "source": [
    "df.groupby('gender')['height'].mean()"
   ]
  },
  {
   "cell_type": "code",
   "execution_count": 11,
   "metadata": {},
   "outputs": [
    {
     "data": {
      "text/plain": [
       "1    45530\n",
       "2    24470\n",
       "Name: gender, dtype: int64"
      ]
     },
     "execution_count": 11,
     "metadata": {},
     "output_type": "execute_result"
    }
   ],
   "source": [
    "df['gender'].value_counts()"
   ]
  },
  {
   "cell_type": "markdown",
   "metadata": {},
   "source": [
    "**<font color='red'>Вопрос 2 (1 балл).</font> Кто в среднем реже указывает, что употребляет алкоголь – мужчины или женщины?**"
   ]
  },
  {
   "cell_type": "markdown",
   "metadata": {},
   "source": [
    "**<font color='red'>Варианты:</font>**\n",
    "- мужчины \n",
    "- женщины"
   ]
  },
  {
   "cell_type": "code",
   "execution_count": 12,
   "metadata": {},
   "outputs": [
    {
     "data": {
      "text/plain": [
       "gender\n",
       "1    0.025500\n",
       "2    0.106375\n",
       "Name: alco, dtype: float64"
      ]
     },
     "execution_count": 12,
     "metadata": {},
     "output_type": "execute_result"
    }
   ],
   "source": [
    "df.groupby('gender')['alco'].mean()"
   ]
  },
  {
   "cell_type": "markdown",
   "metadata": {},
   "source": [
    "**<font color='red'>Вопрос 3 (1 балл).</font> Во сколько раз (округленно, `round`) процент курящих среди мужчин больше, чем процент курящих среди женщин (по крайней мере, по этим анкетным данным)?**"
   ]
  },
  {
   "cell_type": "markdown",
   "metadata": {},
   "source": [
    "**<font color='red'>Варианты:</font>**\n",
    "- 4\n",
    "- 8\n",
    "- 12\n",
    "- 16"
   ]
  },
  {
   "cell_type": "code",
   "execution_count": 19,
   "metadata": {},
   "outputs": [
    {
     "data": {
      "text/html": [
       "<div>\n",
       "<style scoped>\n",
       "    .dataframe tbody tr th:only-of-type {\n",
       "        vertical-align: middle;\n",
       "    }\n",
       "\n",
       "    .dataframe tbody tr th {\n",
       "        vertical-align: top;\n",
       "    }\n",
       "\n",
       "    .dataframe thead th {\n",
       "        text-align: right;\n",
       "    }\n",
       "</style>\n",
       "<table border=\"1\" class=\"dataframe\">\n",
       "  <thead>\n",
       "    <tr style=\"text-align: right;\">\n",
       "      <th>smoke</th>\n",
       "      <th>0</th>\n",
       "      <th>1</th>\n",
       "    </tr>\n",
       "    <tr>\n",
       "      <th>gender</th>\n",
       "      <th></th>\n",
       "      <th></th>\n",
       "    </tr>\n",
       "  </thead>\n",
       "  <tbody>\n",
       "    <tr>\n",
       "      <th>1</th>\n",
       "      <td>44717</td>\n",
       "      <td>813</td>\n",
       "    </tr>\n",
       "    <tr>\n",
       "      <th>2</th>\n",
       "      <td>19114</td>\n",
       "      <td>5356</td>\n",
       "    </tr>\n",
       "  </tbody>\n",
       "</table>\n",
       "</div>"
      ],
      "text/plain": [
       "smoke       0     1\n",
       "gender             \n",
       "1       44717   813\n",
       "2       19114  5356"
      ]
     },
     "execution_count": 19,
     "metadata": {},
     "output_type": "execute_result"
    }
   ],
   "source": [
    "pd.crosstab(df['gender'],df['smoke'])"
   ]
  },
  {
   "cell_type": "code",
   "execution_count": 25,
   "metadata": {},
   "outputs": [
    {
     "data": {
      "text/plain": [
       "gender\n",
       "1    0.017856\n",
       "2    0.218880\n",
       "Name: smoke, dtype: float64"
      ]
     },
     "execution_count": 25,
     "metadata": {},
     "output_type": "execute_result"
    }
   ],
   "source": [
    "df.groupby('gender')['smoke'].mean()"
   ]
  },
  {
   "cell_type": "code",
   "execution_count": 29,
   "metadata": {},
   "outputs": [
    {
     "data": {
      "text/plain": [
       "12.0"
      ]
     },
     "execution_count": 29,
     "metadata": {},
     "output_type": "execute_result"
    }
   ],
   "source": [
    "round(df[df['gender'] == 2]['smoke'].mean()/df[df['gender'] == 1]['smoke'].mean())"
   ]
  },
  {
   "cell_type": "markdown",
   "metadata": {},
   "source": [
    "**<font color='red'>Вопрос 4 (1 балл).</font> Вы наверняка заметили, что значения возраста какие-то странные. Догадайтесь, в чём здесь измеряется возраст, и ответьте, на сколько месяцев (примерно) отличаются медианные значения возраста курящих и некурящих.**"
   ]
  },
  {
   "cell_type": "markdown",
   "metadata": {},
   "source": [
    "**<font color='red'>Варианты:</font>**\n",
    "- 10\n",
    "- 15\n",
    "- 20\n",
    "- 25"
   ]
  },
  {
   "cell_type": "code",
   "execution_count": 31,
   "metadata": {},
   "outputs": [
    {
     "data": {
      "text/plain": [
       "count    70000.000000\n",
       "mean     19468.865814\n",
       "std       2467.251667\n",
       "min      10798.000000\n",
       "25%      17664.000000\n",
       "50%      19703.000000\n",
       "75%      21327.000000\n",
       "max      23713.000000\n",
       "Name: age, dtype: float64"
      ]
     },
     "execution_count": 31,
     "metadata": {},
     "output_type": "execute_result"
    }
   ],
   "source": [
    "df.age.describe()"
   ]
  },
  {
   "cell_type": "markdown",
   "metadata": {},
   "source": [
    "#### Возможно, это возраст в днях. Попробуем перевести его в года:"
   ]
  },
  {
   "cell_type": "code",
   "execution_count": 34,
   "metadata": {},
   "outputs": [
    {
     "data": {
      "text/plain": [
       "53.33935839452055"
      ]
     },
     "execution_count": 34,
     "metadata": {},
     "output_type": "execute_result"
    }
   ],
   "source": [
    "19468.865814/(365)"
   ]
  },
  {
   "cell_type": "code",
   "execution_count": 54,
   "metadata": {},
   "outputs": [
    {
     "data": {
      "text/plain": [
       "20"
      ]
     },
     "execution_count": 54,
     "metadata": {},
     "output_type": "execute_result"
    }
   ],
   "source": [
    "round((df[df['smoke'] == 0].age.median() - df[df['smoke'] == 1].age.median())/30)"
   ]
  },
  {
   "cell_type": "markdown",
   "metadata": {},
   "source": [
    "**<font color='red'>Вопрос 5 (2 балла).</font> В [статье](https://ru.wikipedia.org/wiki/Сердечно-сосудистый_риск) на Википедии про сердечно-сосудистый риск показана шкала SCORE для расчёта риска смерти от сердечно-сосудистого заболевания в ближайшие 10 лет. Вот она:**\n",
    "<img src='https://habrastorage.org/webt/gg/38/vf/gg38vfl5ql8obqjmlsvt9es76p8.png' width=70%>\n",
    "\n",
    "Давайте посмотрим на правый верхний прямоугольник, отображающий сегмент курящих мужчин в возрасте от 60 до 64 лет включительно. (Неочевидно, но тут для возраста и давления цифры означают верхнюю границу, и она не включается).\n",
    "\n",
    "Видим 9-ку в левом нижнем углу этого прямоугольника и 47 – в правом верхнем. То есть если при этом систолическое (т.е. верхнее) артериальное давление – меньше 120 мм рт.ст., а уровень холестерина – 4 ммоль/л, то риск ССЗ оценивается примерно в 5 раз ниже, чем если бы давление лежало в интервале [160, 180), а холестерина было бы 8 ммоль/л.\n",
    "\n",
    "Давайте посчитаем аналогичное значение, но на наших данных. \n",
    "\n",
    "Уточнения:\n",
    "- Создайте новый признак ``age_years`` – возраст в годах, округлив до целых (`round`). Для данного примера отберите курящих мужчин от 60 до 64 лет включительно\n",
    "- Категории уровня холестрина на рисунке и в наших данных отличаются. Отображение значений на картинке в значения признака ``cholesterol`` следующее: 4 ммоль/л $\\rightarrow$ 1, 5-7 ммоль/л $\\rightarrow$ 2, 8 ммоль/л $\\rightarrow$ 3.\n",
    "- Интересуют 2 подвыборки курящих мужчин возраста от 60 до 64 лет включительно: первая с верхним артериальным давлением строго меньше 120 мм рт.ст. и концентрацией холестерина – 4 ммоль/л, а вторая – с верхним артериальным давлением от 160 (включительно) до 180 мм рт.ст. (не включительно) и концентрацией холестерина – 8 ммоль/л.\n",
    "\n",
    "Во сколько раз (округленно, `round`) отличаются доли больных людей (согласно целевому признаку, `cardio`) в этих двух подвыборках? Посчитайте на наших данных."
   ]
  },
  {
   "cell_type": "markdown",
   "metadata": {},
   "source": [
    "**<font color='red'>Варианты:</font>**\n",
    "- 2\n",
    "- 3\n",
    "- 4\n",
    "- 5"
   ]
  },
  {
   "cell_type": "code",
   "execution_count": 42,
   "metadata": {},
   "outputs": [],
   "source": [
    "df['age_years'] = round(df.age/365.25)"
   ]
  },
  {
   "cell_type": "code",
   "execution_count": 62,
   "metadata": {},
   "outputs": [],
   "source": [
    "old_males = df[(60 <= df['age_years']) & (df['age_years'] <= 64) & (df['gender'] == 2) & (df['smoke'] == 1)]"
   ]
  },
  {
   "cell_type": "code",
   "execution_count": 63,
   "metadata": {
    "collapsed": true
   },
   "outputs": [
    {
     "data": {
      "text/html": [
       "<div>\n",
       "<style scoped>\n",
       "    .dataframe tbody tr th:only-of-type {\n",
       "        vertical-align: middle;\n",
       "    }\n",
       "\n",
       "    .dataframe tbody tr th {\n",
       "        vertical-align: top;\n",
       "    }\n",
       "\n",
       "    .dataframe thead th {\n",
       "        text-align: right;\n",
       "    }\n",
       "</style>\n",
       "<table border=\"1\" class=\"dataframe\">\n",
       "  <thead>\n",
       "    <tr style=\"text-align: right;\">\n",
       "      <th></th>\n",
       "      <th>age</th>\n",
       "      <th>gender</th>\n",
       "      <th>height</th>\n",
       "      <th>weight</th>\n",
       "      <th>ap_hi</th>\n",
       "      <th>ap_lo</th>\n",
       "      <th>cholesterol</th>\n",
       "      <th>gluc</th>\n",
       "      <th>smoke</th>\n",
       "      <th>alco</th>\n",
       "      <th>active</th>\n",
       "      <th>cardio</th>\n",
       "      <th>age_years</th>\n",
       "    </tr>\n",
       "  </thead>\n",
       "  <tbody>\n",
       "    <tr>\n",
       "      <th>count</th>\n",
       "      <td>987.000000</td>\n",
       "      <td>987.0</td>\n",
       "      <td>987.000000</td>\n",
       "      <td>987.000000</td>\n",
       "      <td>987.000000</td>\n",
       "      <td>987.000000</td>\n",
       "      <td>987.000000</td>\n",
       "      <td>987.000000</td>\n",
       "      <td>987.0</td>\n",
       "      <td>987.000000</td>\n",
       "      <td>987.000000</td>\n",
       "      <td>987.000000</td>\n",
       "      <td>987.000000</td>\n",
       "    </tr>\n",
       "    <tr>\n",
       "      <th>mean</th>\n",
       "      <td>22543.819656</td>\n",
       "      <td>2.0</td>\n",
       "      <td>169.223911</td>\n",
       "      <td>76.211044</td>\n",
       "      <td>133.267477</td>\n",
       "      <td>104.939210</td>\n",
       "      <td>1.520770</td>\n",
       "      <td>1.232016</td>\n",
       "      <td>1.0</td>\n",
       "      <td>0.288754</td>\n",
       "      <td>0.826748</td>\n",
       "      <td>0.616008</td>\n",
       "      <td>61.734549</td>\n",
       "    </tr>\n",
       "    <tr>\n",
       "      <th>std</th>\n",
       "      <td>565.657170</td>\n",
       "      <td>0.0</td>\n",
       "      <td>7.365943</td>\n",
       "      <td>13.510890</td>\n",
       "      <td>19.186852</td>\n",
       "      <td>138.279065</td>\n",
       "      <td>0.777683</td>\n",
       "      <td>0.573120</td>\n",
       "      <td>0.0</td>\n",
       "      <td>0.453413</td>\n",
       "      <td>0.378657</td>\n",
       "      <td>0.486603</td>\n",
       "      <td>1.516793</td>\n",
       "    </tr>\n",
       "    <tr>\n",
       "      <th>min</th>\n",
       "      <td>21734.000000</td>\n",
       "      <td>2.0</td>\n",
       "      <td>120.000000</td>\n",
       "      <td>40.000000</td>\n",
       "      <td>12.000000</td>\n",
       "      <td>0.000000</td>\n",
       "      <td>1.000000</td>\n",
       "      <td>1.000000</td>\n",
       "      <td>1.0</td>\n",
       "      <td>0.000000</td>\n",
       "      <td>0.000000</td>\n",
       "      <td>0.000000</td>\n",
       "      <td>60.000000</td>\n",
       "    </tr>\n",
       "    <tr>\n",
       "      <th>25%</th>\n",
       "      <td>21975.000000</td>\n",
       "      <td>2.0</td>\n",
       "      <td>165.000000</td>\n",
       "      <td>67.000000</td>\n",
       "      <td>120.000000</td>\n",
       "      <td>80.000000</td>\n",
       "      <td>1.000000</td>\n",
       "      <td>1.000000</td>\n",
       "      <td>1.0</td>\n",
       "      <td>0.000000</td>\n",
       "      <td>1.000000</td>\n",
       "      <td>0.000000</td>\n",
       "      <td>60.000000</td>\n",
       "    </tr>\n",
       "    <tr>\n",
       "      <th>50%</th>\n",
       "      <td>22562.000000</td>\n",
       "      <td>2.0</td>\n",
       "      <td>169.000000</td>\n",
       "      <td>75.000000</td>\n",
       "      <td>130.000000</td>\n",
       "      <td>80.000000</td>\n",
       "      <td>1.000000</td>\n",
       "      <td>1.000000</td>\n",
       "      <td>1.0</td>\n",
       "      <td>0.000000</td>\n",
       "      <td>1.000000</td>\n",
       "      <td>1.000000</td>\n",
       "      <td>62.000000</td>\n",
       "    </tr>\n",
       "    <tr>\n",
       "      <th>75%</th>\n",
       "      <td>23099.000000</td>\n",
       "      <td>2.0</td>\n",
       "      <td>174.000000</td>\n",
       "      <td>84.000000</td>\n",
       "      <td>140.000000</td>\n",
       "      <td>90.000000</td>\n",
       "      <td>2.000000</td>\n",
       "      <td>1.000000</td>\n",
       "      <td>1.0</td>\n",
       "      <td>1.000000</td>\n",
       "      <td>1.000000</td>\n",
       "      <td>1.000000</td>\n",
       "      <td>63.000000</td>\n",
       "    </tr>\n",
       "    <tr>\n",
       "      <th>max</th>\n",
       "      <td>23557.000000</td>\n",
       "      <td>2.0</td>\n",
       "      <td>198.000000</td>\n",
       "      <td>143.000000</td>\n",
       "      <td>200.000000</td>\n",
       "      <td>1200.000000</td>\n",
       "      <td>3.000000</td>\n",
       "      <td>3.000000</td>\n",
       "      <td>1.0</td>\n",
       "      <td>1.000000</td>\n",
       "      <td>1.000000</td>\n",
       "      <td>1.000000</td>\n",
       "      <td>64.000000</td>\n",
       "    </tr>\n",
       "  </tbody>\n",
       "</table>\n",
       "</div>"
      ],
      "text/plain": [
       "                age  gender      height      weight       ap_hi        ap_lo  \\\n",
       "count    987.000000   987.0  987.000000  987.000000  987.000000   987.000000   \n",
       "mean   22543.819656     2.0  169.223911   76.211044  133.267477   104.939210   \n",
       "std      565.657170     0.0    7.365943   13.510890   19.186852   138.279065   \n",
       "min    21734.000000     2.0  120.000000   40.000000   12.000000     0.000000   \n",
       "25%    21975.000000     2.0  165.000000   67.000000  120.000000    80.000000   \n",
       "50%    22562.000000     2.0  169.000000   75.000000  130.000000    80.000000   \n",
       "75%    23099.000000     2.0  174.000000   84.000000  140.000000    90.000000   \n",
       "max    23557.000000     2.0  198.000000  143.000000  200.000000  1200.000000   \n",
       "\n",
       "       cholesterol        gluc  smoke        alco      active      cardio  \\\n",
       "count   987.000000  987.000000  987.0  987.000000  987.000000  987.000000   \n",
       "mean      1.520770    1.232016    1.0    0.288754    0.826748    0.616008   \n",
       "std       0.777683    0.573120    0.0    0.453413    0.378657    0.486603   \n",
       "min       1.000000    1.000000    1.0    0.000000    0.000000    0.000000   \n",
       "25%       1.000000    1.000000    1.0    0.000000    1.000000    0.000000   \n",
       "50%       1.000000    1.000000    1.0    0.000000    1.000000    1.000000   \n",
       "75%       2.000000    1.000000    1.0    1.000000    1.000000    1.000000   \n",
       "max       3.000000    3.000000    1.0    1.000000    1.000000    1.000000   \n",
       "\n",
       "        age_years  \n",
       "count  987.000000  \n",
       "mean    61.734549  \n",
       "std      1.516793  \n",
       "min     60.000000  \n",
       "25%     60.000000  \n",
       "50%     62.000000  \n",
       "75%     63.000000  \n",
       "max     64.000000  "
      ]
     },
     "execution_count": 63,
     "metadata": {},
     "output_type": "execute_result"
    }
   ],
   "source": [
    "old_males.describe()"
   ]
  },
  {
   "cell_type": "code",
   "execution_count": 64,
   "metadata": {
    "collapsed": true
   },
   "outputs": [
    {
     "data": {
      "text/plain": [
       "<matplotlib.axes._subplots.AxesSubplot at 0x7f1cd10fb860>"
      ]
     },
     "execution_count": 64,
     "metadata": {},
     "output_type": "execute_result"
    },
    {
     "data": {
      "image/png": "[encoded data removed]",
      "text/plain": [
       "<matplotlib.figure.Figure at 0x7f1cd10f95f8>"
      ]
     },
     "metadata": {},
     "output_type": "display_data"
    }
   ],
   "source": [
    "old_males.cholesterol.hist()"
   ]
  },
  {
   "cell_type": "code",
   "execution_count": 69,
   "metadata": {},
   "outputs": [],
   "source": [
    "s1 = old_males[(old_males.ap_hi  < 120) & (old_males.cholesterol == 1)]"
   ]
  },
  {
   "cell_type": "code",
   "execution_count": 71,
   "metadata": {},
   "outputs": [],
   "source": [
    "s2 = old_males[(160 <= old_males.ap_hi) & (old_males.ap_hi  < 180) & (old_males.cholesterol == 3)]"
   ]
  },
  {
   "cell_type": "code",
   "execution_count": 75,
   "metadata": {},
   "outputs": [
    {
     "name": "stdout",
     "output_type": "stream",
     "text": [
      "s1 0.2631578947368421\n",
      "s2 0.8636363636363636\n",
      "ration 3.0\n"
     ]
    }
   ],
   "source": [
    "print('s1', s1.cardio.mean())\n",
    "print('s2', s2.cardio.mean())\n",
    "print('ration', round(s2.cardio.mean()/s1.cardio.mean()))\n"
   ]
  },
  {
   "cell_type": "markdown",
   "metadata": {},
   "source": [
    "**<font color='red'>Вопрос 6 (2 балла).</font> Постройте новый признак – BMI ([Body Mass Index](https://en.wikipedia.org/wiki/Body_mass_index)). Для этого надо вес в килограммах поделить на квадрат роста в метрах. Нормальными считаются значения BMI от 18.5 до 25. Выберите верные утверждения.**"
   ]
  },
  {
   "cell_type": "markdown",
   "metadata": {},
   "source": [
    "**<font color='red'>Утверждения:</font>**\n",
    "- Медианный BMI по выборке превышает норму\n",
    "- У женщин в среднем BMI ниже, чем у мужчин\n",
    "- У здоровых в среднем BMI выше, чем у больных\n",
    "- В сегменте здоровых и непьющих мужчин в среднем BMI ближе к норме, чем в сегменте здоровых и непьющих женщин"
   ]
  },
  {
   "cell_type": "code",
   "execution_count": 12,
   "metadata": {},
   "outputs": [],
   "source": [
    "df['bmi'] = df.weight/((df.height/100)**2)\n"
   ]
  },
  {
   "cell_type": "code",
   "execution_count": 24,
   "metadata": {},
   "outputs": [
    {
     "data": {
      "text/html": [
       "<div>\n",
       "<style scoped>\n",
       "    .dataframe tbody tr th:only-of-type {\n",
       "        vertical-align: middle;\n",
       "    }\n",
       "\n",
       "    .dataframe tbody tr th {\n",
       "        vertical-align: top;\n",
       "    }\n",
       "\n",
       "    .dataframe thead th {\n",
       "        text-align: right;\n",
       "    }\n",
       "</style>\n",
       "<table border=\"1\" class=\"dataframe\">\n",
       "  <thead>\n",
       "    <tr style=\"text-align: right;\">\n",
       "      <th></th>\n",
       "      <th>age</th>\n",
       "      <th>gender</th>\n",
       "      <th>height</th>\n",
       "      <th>weight</th>\n",
       "      <th>ap_hi</th>\n",
       "      <th>ap_lo</th>\n",
       "      <th>cholesterol</th>\n",
       "      <th>gluc</th>\n",
       "      <th>smoke</th>\n",
       "      <th>alco</th>\n",
       "      <th>active</th>\n",
       "      <th>cardio</th>\n",
       "      <th>bmi</th>\n",
       "    </tr>\n",
       "    <tr>\n",
       "      <th>id</th>\n",
       "      <th></th>\n",
       "      <th></th>\n",
       "      <th></th>\n",
       "      <th></th>\n",
       "      <th></th>\n",
       "      <th></th>\n",
       "      <th></th>\n",
       "      <th></th>\n",
       "      <th></th>\n",
       "      <th></th>\n",
       "      <th></th>\n",
       "      <th></th>\n",
       "      <th></th>\n",
       "    </tr>\n",
       "  </thead>\n",
       "  <tbody>\n",
       "    <tr>\n",
       "      <th>18218</th>\n",
       "      <td>19594</td>\n",
       "      <td>1</td>\n",
       "      <td>75</td>\n",
       "      <td>168.0</td>\n",
       "      <td>120</td>\n",
       "      <td>80</td>\n",
       "      <td>1</td>\n",
       "      <td>1</td>\n",
       "      <td>1</td>\n",
       "      <td>0</td>\n",
       "      <td>1</td>\n",
       "      <td>1</td>\n",
       "      <td>298.666667</td>\n",
       "    </tr>\n",
       "    <tr>\n",
       "      <th>32456</th>\n",
       "      <td>23386</td>\n",
       "      <td>1</td>\n",
       "      <td>55</td>\n",
       "      <td>81.0</td>\n",
       "      <td>130</td>\n",
       "      <td>90</td>\n",
       "      <td>1</td>\n",
       "      <td>1</td>\n",
       "      <td>0</td>\n",
       "      <td>0</td>\n",
       "      <td>1</td>\n",
       "      <td>1</td>\n",
       "      <td>267.768595</td>\n",
       "    </tr>\n",
       "    <tr>\n",
       "      <th>39156</th>\n",
       "      <td>15292</td>\n",
       "      <td>1</td>\n",
       "      <td>80</td>\n",
       "      <td>178.0</td>\n",
       "      <td>140</td>\n",
       "      <td>90</td>\n",
       "      <td>3</td>\n",
       "      <td>3</td>\n",
       "      <td>0</td>\n",
       "      <td>0</td>\n",
       "      <td>1</td>\n",
       "      <td>1</td>\n",
       "      <td>278.125000</td>\n",
       "    </tr>\n",
       "  </tbody>\n",
       "</table>\n",
       "</div>"
      ],
      "text/plain": [
       "         age  gender  height  weight  ap_hi  ap_lo  cholesterol  gluc  smoke  \\\n",
       "id                                                                             \n",
       "18218  19594       1      75   168.0    120     80            1     1      1   \n",
       "32456  23386       1      55    81.0    130     90            1     1      0   \n",
       "39156  15292       1      80   178.0    140     90            3     3      0   \n",
       "\n",
       "       alco  active  cardio         bmi  \n",
       "id                                       \n",
       "18218     0       1       1  298.666667  \n",
       "32456     0       1       1  267.768595  \n",
       "39156     0       1       1  278.125000  "
      ]
     },
     "execution_count": 24,
     "metadata": {},
     "output_type": "execute_result"
    }
   ],
   "source": [
    "df[df['bmi'] > 260]"
   ]
  },
  {
   "cell_type": "code",
   "execution_count": 13,
   "metadata": {},
   "outputs": [
    {
     "data": {
      "text/html": [
       "<div>\n",
       "<style scoped>\n",
       "    .dataframe tbody tr th:only-of-type {\n",
       "        vertical-align: middle;\n",
       "    }\n",
       "\n",
       "    .dataframe tbody tr th {\n",
       "        vertical-align: top;\n",
       "    }\n",
       "\n",
       "    .dataframe thead th {\n",
       "        text-align: right;\n",
       "    }\n",
       "</style>\n",
       "<table border=\"1\" class=\"dataframe\">\n",
       "  <thead>\n",
       "    <tr style=\"text-align: right;\">\n",
       "      <th></th>\n",
       "      <th>age</th>\n",
       "      <th>gender</th>\n",
       "      <th>height</th>\n",
       "      <th>weight</th>\n",
       "      <th>ap_hi</th>\n",
       "      <th>ap_lo</th>\n",
       "      <th>cholesterol</th>\n",
       "      <th>gluc</th>\n",
       "      <th>smoke</th>\n",
       "      <th>alco</th>\n",
       "      <th>active</th>\n",
       "      <th>cardio</th>\n",
       "      <th>bmi</th>\n",
       "    </tr>\n",
       "    <tr>\n",
       "      <th>id</th>\n",
       "      <th></th>\n",
       "      <th></th>\n",
       "      <th></th>\n",
       "      <th></th>\n",
       "      <th></th>\n",
       "      <th></th>\n",
       "      <th></th>\n",
       "      <th></th>\n",
       "      <th></th>\n",
       "      <th></th>\n",
       "      <th></th>\n",
       "      <th></th>\n",
       "      <th></th>\n",
       "    </tr>\n",
       "  </thead>\n",
       "  <tbody>\n",
       "    <tr>\n",
       "      <th>0</th>\n",
       "      <td>18393</td>\n",
       "      <td>2</td>\n",
       "      <td>168</td>\n",
       "      <td>62.0</td>\n",
       "      <td>110</td>\n",
       "      <td>80</td>\n",
       "      <td>1</td>\n",
       "      <td>1</td>\n",
       "      <td>0</td>\n",
       "      <td>0</td>\n",
       "      <td>1</td>\n",
       "      <td>0</td>\n",
       "      <td>21.967120</td>\n",
       "    </tr>\n",
       "    <tr>\n",
       "      <th>1</th>\n",
       "      <td>20228</td>\n",
       "      <td>1</td>\n",
       "      <td>156</td>\n",
       "      <td>85.0</td>\n",
       "      <td>140</td>\n",
       "      <td>90</td>\n",
       "      <td>3</td>\n",
       "      <td>1</td>\n",
       "      <td>0</td>\n",
       "      <td>0</td>\n",
       "      <td>1</td>\n",
       "      <td>1</td>\n",
       "      <td>34.927679</td>\n",
       "    </tr>\n",
       "    <tr>\n",
       "      <th>2</th>\n",
       "      <td>18857</td>\n",
       "      <td>1</td>\n",
       "      <td>165</td>\n",
       "      <td>64.0</td>\n",
       "      <td>130</td>\n",
       "      <td>70</td>\n",
       "      <td>3</td>\n",
       "      <td>1</td>\n",
       "      <td>0</td>\n",
       "      <td>0</td>\n",
       "      <td>0</td>\n",
       "      <td>1</td>\n",
       "      <td>23.507805</td>\n",
       "    </tr>\n",
       "    <tr>\n",
       "      <th>3</th>\n",
       "      <td>17623</td>\n",
       "      <td>2</td>\n",
       "      <td>169</td>\n",
       "      <td>82.0</td>\n",
       "      <td>150</td>\n",
       "      <td>100</td>\n",
       "      <td>1</td>\n",
       "      <td>1</td>\n",
       "      <td>0</td>\n",
       "      <td>0</td>\n",
       "      <td>1</td>\n",
       "      <td>1</td>\n",
       "      <td>28.710479</td>\n",
       "    </tr>\n",
       "    <tr>\n",
       "      <th>4</th>\n",
       "      <td>17474</td>\n",
       "      <td>1</td>\n",
       "      <td>156</td>\n",
       "      <td>56.0</td>\n",
       "      <td>100</td>\n",
       "      <td>60</td>\n",
       "      <td>1</td>\n",
       "      <td>1</td>\n",
       "      <td>0</td>\n",
       "      <td>0</td>\n",
       "      <td>0</td>\n",
       "      <td>0</td>\n",
       "      <td>23.011177</td>\n",
       "    </tr>\n",
       "  </tbody>\n",
       "</table>\n",
       "</div>"
      ],
      "text/plain": [
       "      age  gender  height  weight  ap_hi  ap_lo  cholesterol  gluc  smoke  \\\n",
       "id                                                                          \n",
       "0   18393       2     168    62.0    110     80            1     1      0   \n",
       "1   20228       1     156    85.0    140     90            3     1      0   \n",
       "2   18857       1     165    64.0    130     70            3     1      0   \n",
       "3   17623       2     169    82.0    150    100            1     1      0   \n",
       "4   17474       1     156    56.0    100     60            1     1      0   \n",
       "\n",
       "    alco  active  cardio        bmi  \n",
       "id                                   \n",
       "0      0       1       0  21.967120  \n",
       "1      0       1       1  34.927679  \n",
       "2      0       0       1  23.507805  \n",
       "3      0       1       1  28.710479  \n",
       "4      0       0       0  23.011177  "
      ]
     },
     "execution_count": 13,
     "metadata": {},
     "output_type": "execute_result"
    }
   ],
   "source": [
    "df.head()"
   ]
  },
  {
   "cell_type": "markdown",
   "metadata": {},
   "source": [
    "1) Медианный BMI по выборке превышает норму - да"
   ]
  },
  {
   "cell_type": "code",
   "execution_count": 14,
   "metadata": {},
   "outputs": [
    {
     "data": {
      "text/plain": [
       "26.374068120774975"
      ]
     },
     "execution_count": 14,
     "metadata": {},
     "output_type": "execute_result"
    }
   ],
   "source": [
    "df.bmi.median()"
   ]
  },
  {
   "cell_type": "markdown",
   "metadata": {},
   "source": [
    "2) У женщин в среднем BMI ниже, чем у мужчин - нет"
   ]
  },
  {
   "cell_type": "code",
   "execution_count": 87,
   "metadata": {},
   "outputs": [
    {
     "data": {
      "text/plain": [
       "gender\n",
       "1    27.987583\n",
       "2    26.754442\n",
       "Name: bmi, dtype: float64"
      ]
     },
     "execution_count": 87,
     "metadata": {},
     "output_type": "execute_result"
    }
   ],
   "source": [
    "df.groupby('gender')['bmi'].mean()"
   ]
  },
  {
   "cell_type": "markdown",
   "metadata": {},
   "source": [
    "3) У здоровых в среднем BMI выше, чем у больных - нет"
   ]
  },
  {
   "cell_type": "code",
   "execution_count": 88,
   "metadata": {},
   "outputs": [
    {
     "data": {
      "text/plain": [
       "cardio\n",
       "0    26.548175\n",
       "1    28.566061\n",
       "Name: bmi, dtype: float64"
      ]
     },
     "execution_count": 88,
     "metadata": {},
     "output_type": "execute_result"
    }
   ],
   "source": [
    "df.groupby('cardio')['bmi'].mean()"
   ]
  },
  {
   "cell_type": "markdown",
   "metadata": {},
   "source": [
    "4) В сегменте здоровых и непьющих мужчин в среднем BMI ближе к норме, чем в сегменте здоровых и непьющих женщин - да"
   ]
  },
  {
   "cell_type": "code",
   "execution_count": 93,
   "metadata": {},
   "outputs": [
    {
     "data": {
      "text/plain": [
       "gender\n",
       "1    26.845407\n",
       "2    25.872638\n",
       "Name: bmi, dtype: float64"
      ]
     },
     "execution_count": 93,
     "metadata": {},
     "output_type": "execute_result"
    }
   ],
   "source": [
    "s3 = df[(df['cardio'] == 0) & ((df['alco'] == 0))]\n",
    "s3.groupby('gender')['bmi'].mean()"
   ]
  },
  {
   "cell_type": "markdown",
   "metadata": {},
   "source": [
    "**<font color='red'>Вопрос 7 (2 балла).</font> ** Можно заметить, что данные не особо-то чистые, много в них всякой \"грязи\" и неточностей. Еще лучше мы это увидим, когда обсудим визуализацию данных.\n",
    "\n",
    "Отфильтруйте следующие сегменты пациентов (считаем это ошибками в данных)\n",
    "- указанное нижнее значение артериального давления строго выше верхнего\n",
    "- рост строго меньше 2.5%-перцентили или строго больше 97.5%-перцентили (используйте `pd.Series.quantile`, если не знаете, что это такое – прочитайте)\n",
    "- вес строго меньше 2.5%-перцентили или строго больше 97.5%-перцентили\n",
    "\n",
    "Этот вовсе не вся чистка данных, которую можно было проделать, но пока остановимся на этом.\n",
    "\n",
    "Сколько процентов данных (округленно, `round`) мы выбросили?"
   ]
  },
  {
   "cell_type": "markdown",
   "metadata": {},
   "source": [
    "**<font color='red'>Варианты:</font>**\n",
    "- 8\n",
    "- 9\n",
    "- 10\n",
    "- 11"
   ]
  },
  {
   "cell_type": "code",
   "execution_count": 17,
   "metadata": {},
   "outputs": [
    {
     "name": "stdout",
     "output_type": "stream",
     "text": [
      "150.0 180.0 51.0 108.0\n"
     ]
    }
   ],
   "source": [
    "min_height = pd.Series.quantile(df.height, q = 0.025)\n",
    "max_height = pd.Series.quantile(df.height, q = 0.975)\n",
    "\n",
    "min_weight = pd.Series.quantile(df.weight, q = 0.025)\n",
    "max_weight = pd.Series.quantile(df.weight, q = 0.975)\n",
    "\n",
    "print(min_height, max_height, min_weight, max_weight)"
   ]
  },
  {
   "cell_type": "code",
   "execution_count": 18,
   "metadata": {},
   "outputs": [],
   "source": [
    "s4 = df[~((df.ap_lo > df.ap_hi) | (df.height < min_height) | (df.height > max_height) | (df.weight < min_weight) \\\n",
    "   | (df.weight > max_weight))]"
   ]
  },
  {
   "cell_type": "code",
   "execution_count": 20,
   "metadata": {},
   "outputs": [
    {
     "data": {
      "text/plain": [
       "10"
      ]
     },
     "execution_count": 20,
     "metadata": {},
     "output_type": "execute_result"
    }
   ],
   "source": [
    "round(((df.shape[0] - s4.shape[0])/df.shape[0])*100)"
   ]
  },
  {
   "cell_type": "code",
   "execution_count": 124,
   "metadata": {},
   "outputs": [
    {
     "data": {
      "text/plain": [
       "<matplotlib.axes._subplots.AxesSubplot at 0x7f1cd10a46a0>"
      ]
     },
     "execution_count": 124,
     "metadata": {},
     "output_type": "execute_result"
    },
    {
     "data": {
      "image/png": "[encoded data removed]",
      "text/plain": [
       "<matplotlib.figure.Figure at 0x7f1cd0cbefd0>"
      ]
     },
     "metadata": {},
     "output_type": "display_data"
    }
   ],
   "source": [
    "df[df['gender']==1].height.hist(bins=50)\n",
    "df[df['gender']==2].height.hist(color='orange', bins=50)"
   ]
  },
  {
   "cell_type": "code",
   "execution_count": 125,
   "metadata": {},
   "outputs": [],
   "source": [
    "import seaborn as sns"
   ]
  },
  {
   "cell_type": "code",
   "execution_count": null,
   "metadata": {},
   "outputs": [
    {
     "name": "stderr",
     "output_type": "stream",
     "text": [
      "/usr/local/lib/python3.5/dist-packages/ipykernel_launcher.py:1: FutureWarning: pandas.scatter_matrix is deprecated. Use pandas.plotting.scatter_matrix instead\n",
      "  \"\"\"Entry point for launching an IPython kernel.\n"
     ]
    },
    {
     "data": {
      "text/plain": [
       "array([[<matplotlib.axes._subplots.AxesSubplot object at 0x7f1cc4a8f4a8>,\n",
       "        <matplotlib.axes._subplots.AxesSubplot object at 0x7f1cc4a919e8>,\n",
       "        <matplotlib.axes._subplots.AxesSubplot object at 0x7f1cc48165f8>,\n",
       "        <matplotlib.axes._subplots.AxesSubplot object at 0x7f1cc4a102e8>,\n",
       "        <matplotlib.axes._subplots.AxesSubplot object at 0x7f1cc49f9dd8>,\n",
       "        <matplotlib.axes._subplots.AxesSubplot object at 0x7f1cc4a167b8>,\n",
       "        <matplotlib.axes._subplots.AxesSubplot object at 0x7f1cc4903278>,\n",
       "        <matplotlib.axes._subplots.AxesSubplot object at 0x7f1cc48e4dd8>,\n",
       "        <matplotlib.axes._subplots.AxesSubplot object at 0x7f1cc4939ac8>,\n",
       "        <matplotlib.axes._subplots.AxesSubplot object at 0x7f1cc49247b8>,\n",
       "        <matplotlib.axes._subplots.AxesSubplot object at 0x7f1cc492e6d8>,\n",
       "        <matplotlib.axes._subplots.AxesSubplot object at 0x7f1cc479d7b8>,\n",
       "        <matplotlib.axes._subplots.AxesSubplot object at 0x7f1cc47d1438>,\n",
       "        <matplotlib.axes._subplots.AxesSubplot object at 0x7f1cc485df98>],\n",
       "       [<matplotlib.axes._subplots.AxesSubplot object at 0x7f1cc48924a8>,\n",
       "        <matplotlib.axes._subplots.AxesSubplot object at 0x7f1cc49b99e8>,\n",
       "        <matplotlib.axes._subplots.AxesSubplot object at 0x7f1cc49cf4a8>,\n",
       "        <matplotlib.axes._subplots.AxesSubplot object at 0x7f1cc48c3208>,\n",
       "        <matplotlib.axes._subplots.AxesSubplot object at 0x7f1cc4a3ccf8>,\n",
       "        <matplotlib.axes._subplots.AxesSubplot object at 0x7f1cc4a366d8>,\n",
       "        <matplotlib.axes._subplots.AxesSubplot object at 0x7f1cc4960438>,\n",
       "        <matplotlib.axes._subplots.AxesSubplot object at 0x7f1cc4983eb8>,\n",
       "        <matplotlib.axes._subplots.AxesSubplot object at 0x7f1cc4776f98>,\n",
       "        <matplotlib.axes._subplots.AxesSubplot object at 0x7f1cc4790c18>,\n",
       "        <matplotlib.axes._subplots.AxesSubplot object at 0x7f1cc4737e10>,\n",
       "        <matplotlib.axes._subplots.AxesSubplot object at 0x7f1cc46dce10>,\n",
       "        <matplotlib.axes._subplots.AxesSubplot object at 0x7f1cc4700e10>,\n",
       "        <matplotlib.axes._subplots.AxesSubplot object at 0x7f1cc46a1da0>],\n",
       "       [<matplotlib.axes._subplots.AxesSubplot object at 0x7f1cc46ba0f0>,\n",
       "        <matplotlib.axes._subplots.AxesSubplot object at 0x7f1cc46cc7f0>,\n",
       "        <matplotlib.axes._subplots.AxesSubplot object at 0x7f1cc4661710>,\n",
       "        <matplotlib.axes._subplots.AxesSubplot object at 0x7f1cc4685630>,\n",
       "        <matplotlib.axes._subplots.AxesSubplot object at 0x7f1cc46970b8>,\n",
       "        <matplotlib.axes._subplots.AxesSubplot object at 0x7f1cc463df60>,\n",
       "        <matplotlib.axes._subplots.AxesSubplot object at 0x7f1cc45e2fd0>,\n",
       "        <matplotlib.axes._subplots.AxesSubplot object at 0x7f1cc45f5a20>,\n",
       "        <matplotlib.axes._subplots.AxesSubplot object at 0x7f1cc45a9fd0>,\n",
       "        <matplotlib.axes._subplots.AxesSubplot object at 0x7f1cc45ef828>,\n",
       "        <matplotlib.axes._subplots.AxesSubplot object at 0x7f1cc456da20>,\n",
       "        <matplotlib.axes._subplots.AxesSubplot object at 0x7f1cc4592e80>,\n",
       "        <matplotlib.axes._subplots.AxesSubplot object at 0x7f1cc4537e80>,\n",
       "        <matplotlib.axes._subplots.AxesSubplot object at 0x7f1cc4558da0>],\n",
       "       [<matplotlib.axes._subplots.AxesSubplot object at 0x7f1cc44fa4e0>,\n",
       "        <matplotlib.axes._subplots.AxesSubplot object at 0x7f1cc449e9b0>,\n",
       "        <matplotlib.axes._subplots.AxesSubplot object at 0x7f1cc44c39b0>,\n",
       "        <matplotlib.axes._subplots.AxesSubplot object at 0x7f1cc44689b0>,\n",
       "        <matplotlib.axes._subplots.AxesSubplot object at 0x7f1cc4489400>,\n",
       "        <matplotlib.axes._subplots.AxesSubplot object at 0x7f1cc442d470>,\n",
       "        <matplotlib.axes._subplots.AxesSubplot object at 0x7f1cc4452390>,\n",
       "        <matplotlib.axes._subplots.AxesSubplot object at 0x7f1cc43f5390>,\n",
       "        <matplotlib.axes._subplots.AxesSubplot object at 0x7f1cc4458940>,\n",
       "        <matplotlib.axes._subplots.AxesSubplot object at 0x7f1cc43b3fd0>,\n",
       "        <matplotlib.axes._subplots.AxesSubplot object at 0x7f1cc43d7fd0>,\n",
       "        <matplotlib.axes._subplots.AxesSubplot object at 0x7f1cc4378f60>,\n",
       "        <matplotlib.axes._subplots.AxesSubplot object at 0x7f1cc43244e0>,\n",
       "        <matplotlib.axes._subplots.AxesSubplot object at 0x7f1cc43409b0>],\n",
       "       [<matplotlib.axes._subplots.AxesSubplot object at 0x7f1cc42e6940>,\n",
       "        <matplotlib.axes._subplots.AxesSubplot object at 0x7f1cc430a860>,\n",
       "        <matplotlib.axes._subplots.AxesSubplot object at 0x7f1cc429db70>,\n",
       "        <matplotlib.axes._subplots.AxesSubplot object at 0x7f1cc434d5c0>,\n",
       "        <matplotlib.axes._subplots.AxesSubplot object at 0x7f1cc42730f0>,\n",
       "        <matplotlib.axes._subplots.AxesSubplot object at 0x7f1cc4297160>,\n",
       "        <matplotlib.axes._subplots.AxesSubplot object at 0x7f1cc423c080>,\n",
       "        <matplotlib.axes._subplots.AxesSubplot object at 0x7f1cc4258f60>,\n",
       "        <matplotlib.axes._subplots.AxesSubplot object at 0x7f1cc41f9d30>,\n",
       "        <matplotlib.axes._subplots.AxesSubplot object at 0x7f1cc419dd30>,\n",
       "        <matplotlib.axes._subplots.AxesSubplot object at 0x7f1cc41c2d30>,\n",
       "        <matplotlib.axes._subplots.AxesSubplot object at 0x7f1cc416a1d0>,\n",
       "        <matplotlib.axes._subplots.AxesSubplot object at 0x7f1cc41784e0>,\n",
       "        <matplotlib.axes._subplots.AxesSubplot object at 0x7f1cc412b550>],\n",
       "       [<matplotlib.axes._subplots.AxesSubplot object at 0x7f1cc414f5c0>,\n",
       "        <matplotlib.axes._subplots.AxesSubplot object at 0x7f1cc40e08d0>,\n",
       "        <matplotlib.axes._subplots.AxesSubplot object at 0x7f1cc4117550>,\n",
       "        <matplotlib.axes._subplots.AxesSubplot object at 0x7f1cc40b60f0>,\n",
       "        <matplotlib.axes._subplots.AxesSubplot object at 0x7f1cc405b160>,\n",
       "        <matplotlib.axes._subplots.AxesSubplot object at 0x7f1cc4080080>,\n",
       "        <matplotlib.axes._subplots.AxesSubplot object at 0x7f1cc401cf60>,\n",
       "        <matplotlib.axes._subplots.AxesSubplot object at 0x7f1cc40309b0>,\n",
       "        <matplotlib.axes._subplots.AxesSubplot object at 0x7f1cb7fc97f0>,\n",
       "        <matplotlib.axes._subplots.AxesSubplot object at 0x7f1cb7feb860>,\n",
       "        <matplotlib.axes._subplots.AxesSubplot object at 0x7f1cb7f80b70>,\n",
       "        <matplotlib.axes._subplots.AxesSubplot object at 0x7f1cb7fb5780>,\n",
       "        <matplotlib.axes._subplots.AxesSubplot object at 0x7f1cb7f57390>,\n",
       "        <matplotlib.axes._subplots.AxesSubplot object at 0x7f1cb7f7a400>],\n",
       "       [<matplotlib.axes._subplots.AxesSubplot object at 0x7f1cb7f1e320>,\n",
       "        <matplotlib.axes._subplots.AxesSubplot object at 0x7f1cb7ec1320>,\n",
       "        <matplotlib.axes._subplots.AxesSubplot object at 0x7f1cb7edbfd0>,\n",
       "        <matplotlib.axes._subplots.AxesSubplot object at 0x7f1cb7e86080>,\n",
       "        <matplotlib.axes._subplots.AxesSubplot object at 0x7f1cb7ea5fd0>,\n",
       "        <matplotlib.axes._subplots.AxesSubplot object at 0x7f1cb7e48ef0>,\n",
       "        <matplotlib.axes._subplots.AxesSubplot object at 0x7f1cb7e5c940>,\n",
       "        <matplotlib.axes._subplots.AxesSubplot object at 0x7f1cb7e0fa90>,\n",
       "        <matplotlib.axes._subplots.AxesSubplot object at 0x7f1cb7e2fd30>,\n",
       "        <matplotlib.axes._subplots.AxesSubplot object at 0x7f1cb7dc4320>,\n",
       "        <matplotlib.axes._subplots.AxesSubplot object at 0x7f1cb7df8c50>,\n",
       "        <matplotlib.axes._subplots.AxesSubplot object at 0x7f1cb7d99550>,\n",
       "        <matplotlib.axes._subplots.AxesSubplot object at 0x7f1cb7dbd550>,\n",
       "        <matplotlib.axes._subplots.AxesSubplot object at 0x7f1cb7d629b0>],\n",
       "       [<matplotlib.axes._subplots.AxesSubplot object at 0x7f1cb7d059b0>,\n",
       "        <matplotlib.axes._subplots.AxesSubplot object at 0x7f1cb7d568d0>,\n",
       "        <matplotlib.axes._subplots.AxesSubplot object at 0x7f1cb7cc4fd0>,\n",
       "        <matplotlib.axes._subplots.AxesSubplot object at 0x7f1cb7ced4e0>,\n",
       "        <matplotlib.axes._subplots.AxesSubplot object at 0x7f1cb7c934e0>,\n",
       "        <matplotlib.axes._subplots.AxesSubplot object at 0x7f1cb7cb7470>,\n",
       "        <matplotlib.axes._subplots.AxesSubplot object at 0x7f1cb7c53a20>,\n",
       "        <matplotlib.axes._subplots.AxesSubplot object at 0x7f1cb7c76ef0>,\n",
       "        <matplotlib.axes._subplots.AxesSubplot object at 0x7f1cb7c1bef0>,\n",
       "        <matplotlib.axes._subplots.AxesSubplot object at 0x7f1cb7c3ce80>,\n",
       "        <matplotlib.axes._subplots.AxesSubplot object at 0x7f1cb7bdfa20>,\n",
       "        <matplotlib.axes._subplots.AxesSubplot object at 0x7f1cb7b82a90>,\n",
       "        <matplotlib.axes._subplots.AxesSubplot object at 0x7f1cb7ba79b0>,\n",
       "        <matplotlib.axes._subplots.AxesSubplot object at 0x7f1cb7b4c9b0>],\n",
       "       [<matplotlib.axes._subplots.AxesSubplot object at 0x7f1cb7bba160>,\n",
       "        <matplotlib.axes._subplots.AxesSubplot object at 0x7f1cb7b0f630>,\n",
       "        <matplotlib.axes._subplots.AxesSubplot object at 0x7f1cb7b34630>,\n",
       "        <matplotlib.axes._subplots.AxesSubplot object at 0x7f1cb7ad75c0>,\n",
       "        <matplotlib.axes._subplots.AxesSubplot object at 0x7f1cb7af8a90>,\n",
       "        <matplotlib.axes._subplots.AxesSubplot object at 0x7f1cb7a9e0f0>,\n",
       "        <matplotlib.axes._subplots.AxesSubplot object at 0x7f1cb7ab9fd0>,\n",
       "        <matplotlib.axes._subplots.AxesSubplot object at 0x7f1cb7a5eef0>,\n",
       "        <matplotlib.axes._subplots.AxesSubplot object at 0x7f1cb7a043c8>,\n",
       "        <matplotlib.axes._subplots.AxesSubplot object at 0x7f1cb7aa3320>,\n",
       "        <matplotlib.axes._subplots.AxesSubplot object at 0x7f1cb79c9780>,\n",
       "        <matplotlib.axes._subplots.AxesSubplot object at 0x7f1cb79ec7f0>,\n",
       "        <matplotlib.axes._subplots.AxesSubplot object at 0x7f1cb7992710>,\n",
       "        <matplotlib.axes._subplots.AxesSubplot object at 0x7f1cb79b5630>],\n",
       "       [<matplotlib.axes._subplots.AxesSubplot object at 0x7f1cb7956390>,\n",
       "        <matplotlib.axes._subplots.AxesSubplot object at 0x7f1cb797b390>,\n",
       "        <matplotlib.axes._subplots.AxesSubplot object at 0x7f1cb79202b0>,\n",
       "        <matplotlib.axes._subplots.AxesSubplot object at 0x7f1cb78c27f0>,\n",
       "        <matplotlib.axes._subplots.AxesSubplot object at 0x7f1cb78d8cc0>,\n",
       "        <matplotlib.axes._subplots.AxesSubplot object at 0x7f1cb7883c50>,\n",
       "        <matplotlib.axes._subplots.AxesSubplot object at 0x7f1cb78a5c50>,\n",
       "        <matplotlib.axes._subplots.AxesSubplot object at 0x7f1cb784f160>,\n",
       "        <matplotlib.axes._subplots.AxesSubplot object at 0x7f1cb7854780>,\n",
       "        <matplotlib.axes._subplots.AxesSubplot object at 0x7f1cb7810780>,\n",
       "        <matplotlib.axes._subplots.AxesSubplot object at 0x7f1cb7832780>,\n",
       "        <matplotlib.axes._subplots.AxesSubplot object at 0x7f1cb77d5cc0>,\n",
       "        <matplotlib.axes._subplots.AxesSubplot object at 0x7f1cb77f9c50>,\n",
       "        <matplotlib.axes._subplots.AxesSubplot object at 0x7f1cb779c160>],\n",
       "       [<matplotlib.axes._subplots.AxesSubplot object at 0x7f1cb77410f0>,\n",
       "        <matplotlib.axes._subplots.AxesSubplot object at 0x7f1cb774cb38>,\n",
       "        <matplotlib.axes._subplots.AxesSubplot object at 0x7f1cb777ffd0>,\n",
       "        <matplotlib.axes._subplots.AxesSubplot object at 0x7f1cb7752f98>,\n",
       "        <matplotlib.axes._subplots.AxesSubplot object at 0x7f1cb76c5d30>,\n",
       "        <matplotlib.axes._subplots.AxesSubplot object at 0x7f1cb76edd30>,\n",
       "        <matplotlib.axes._subplots.AxesSubplot object at 0x7f1cb768fd30>,\n",
       "        <matplotlib.axes._subplots.AxesSubplot object at 0x7f1cb76b91d0>,\n",
       "        <matplotlib.axes._subplots.AxesSubplot object at 0x7f1cb76557f0>,\n",
       "        <matplotlib.axes._subplots.AxesSubplot object at 0x7f1cb767b7f0>,\n",
       "        <matplotlib.axes._subplots.AxesSubplot object at 0x7f1cb761e780>,\n",
       "        <matplotlib.axes._subplots.AxesSubplot object at 0x7f1cb75c1cc0>,\n",
       "        <matplotlib.axes._subplots.AxesSubplot object at 0x7f1cb75e6160>,\n",
       "        <matplotlib.axes._subplots.AxesSubplot object at 0x7f1cb75880f0>],\n",
       "       [<matplotlib.axes._subplots.AxesSubplot object at 0x7f1cb75ac0f0>,\n",
       "        <matplotlib.axes._subplots.AxesSubplot object at 0x7f1cb754e630>,\n",
       "        <matplotlib.axes._subplots.AxesSubplot object at 0x7f1cb75556a0>,\n",
       "        <matplotlib.axes._subplots.AxesSubplot object at 0x7f1cb750fbe0>,\n",
       "        <matplotlib.axes._subplots.AxesSubplot object at 0x7f1cb7531be0>,\n",
       "        <matplotlib.axes._subplots.AxesSubplot object at 0x7f1cb74db160>,\n",
       "        <matplotlib.axes._subplots.AxesSubplot object at 0x7f1cb74ff0f0>,\n",
       "        <matplotlib.axes._subplots.AxesSubplot object at 0x7f1cb749b5c0>,\n",
       "        <matplotlib.axes._subplots.AxesSubplot object at 0x7f1cb7440550>,\n",
       "        <matplotlib.axes._subplots.AxesSubplot object at 0x7f1cb7453860>,\n",
       "        <matplotlib.axes._subplots.AxesSubplot object at 0x7f1cb74074e0>,\n",
       "        <matplotlib.axes._subplots.AxesSubplot object at 0x7f1cb7446588>,\n",
       "        <matplotlib.axes._subplots.AxesSubplot object at 0x7f1cb7437e80>,\n",
       "        <matplotlib.axes._subplots.AxesSubplot object at 0x7f1cb73e21d0>],\n",
       "       [<matplotlib.axes._subplots.AxesSubplot object at 0x7f1cb73f0400>,\n",
       "        <matplotlib.axes._subplots.AxesSubplot object at 0x7f1cb73a90f0>,\n",
       "        <matplotlib.axes._subplots.AxesSubplot object at 0x7f1cb73456a0>,\n",
       "        <matplotlib.axes._subplots.AxesSubplot object at 0x7f1cb7369780>,\n",
       "        <matplotlib.axes._subplots.AxesSubplot object at 0x7f1cb730c780>,\n",
       "        <matplotlib.axes._subplots.AxesSubplot object at 0x7f1cb73306a0>,\n",
       "        <matplotlib.axes._subplots.AxesSubplot object at 0x7f1cb73134a8>,\n",
       "        <matplotlib.axes._subplots.AxesSubplot object at 0x7f1cb72f52b0>,\n",
       "        <matplotlib.axes._subplots.AxesSubplot object at 0x7f1cb729c2b0>,\n",
       "        <matplotlib.axes._subplots.AxesSubplot object at 0x7f1cb72be240>,\n",
       "        <matplotlib.axes._subplots.AxesSubplot object at 0x7f1cb7261780>,\n",
       "        <matplotlib.axes._subplots.AxesSubplot object at 0x7f1cb727cc50>,\n",
       "        <matplotlib.axes._subplots.AxesSubplot object at 0x7f1cb7222be0>,\n",
       "        <matplotlib.axes._subplots.AxesSubplot object at 0x7f1cb71c4b00>],\n",
       "       [<matplotlib.axes._subplots.AxesSubplot object at 0x7f1cb71d8a20>,\n",
       "        <matplotlib.axes._subplots.AxesSubplot object at 0x7f1cb7209240>,\n",
       "        <matplotlib.axes._subplots.AxesSubplot object at 0x7f1cb71af390>,\n",
       "        <matplotlib.axes._subplots.AxesSubplot object at 0x7f1cb7153400>,\n",
       "        <matplotlib.axes._subplots.AxesSubplot object at 0x7f1cb7177390>,\n",
       "        <matplotlib.axes._subplots.AxesSubplot object at 0x7f1cb711b390>,\n",
       "        <matplotlib.axes._subplots.AxesSubplot object at 0x7f1cb7135da0>,\n",
       "        <matplotlib.axes._subplots.AxesSubplot object at 0x7f1cb70dbcc0>,\n",
       "        <matplotlib.axes._subplots.AxesSubplot object at 0x7f1cb70ffcc0>,\n",
       "        <matplotlib.axes._subplots.AxesSubplot object at 0x7f1cb70a9160>,\n",
       "        <matplotlib.axes._subplots.AxesSubplot object at 0x7f1cb70b5470>,\n",
       "        <matplotlib.axes._subplots.AxesSubplot object at 0x7f1cb7069710>,\n",
       "        <matplotlib.axes._subplots.AxesSubplot object at 0x7f1cb700c780>,\n",
       "        <matplotlib.axes._subplots.AxesSubplot object at 0x7f1cb701ea20>]],\n",
       "      dtype=object)"
      ]
     },
     "execution_count": 172,
     "metadata": {},
     "output_type": "execute_result"
    }
   ],
   "source": [
    "pd.scatter_matrix(df)"
   ]
  },
  {
   "cell_type": "code",
   "execution_count": 137,
   "metadata": {},
   "outputs": [
    {
     "data": {
      "text/plain": [
       "[1, 2, 3, 4, 5, 6]"
      ]
     },
     "execution_count": 137,
     "metadata": {},
     "output_type": "execute_result"
    }
   ],
   "source": [
    "a = [1,2,3] + [4,5,6]\n",
    "a"
   ]
  },
  {
   "cell_type": "code",
   "execution_count": 140,
   "metadata": {},
   "outputs": [],
   "source": [
    "a = np.array([1,2,3]) + np.array([1,2,3])"
   ]
  },
  {
   "cell_type": "code",
   "execution_count": 152,
   "metadata": {},
   "outputs": [],
   "source": [
    "a = np.array([1, 2, 3, 4, 5, 6])"
   ]
  },
  {
   "cell_type": "code",
   "execution_count": 10,
   "metadata": {},
   "outputs": [
    {
     "name": "stderr",
     "output_type": "stream",
     "text": [
      "/usr/local/lib/python3.5/dist-packages/ipykernel_launcher.py:1: FutureWarning: pandas.scatter_matrix is deprecated. Use pandas.plotting.scatter_matrix instead\n",
      "  \"\"\"Entry point for launching an IPython kernel.\n"
     ]
    },
    {
     "data": {
      "text/plain": [
       "array([[<matplotlib.axes._subplots.AxesSubplot object at 0x7f12712f5dd8>,\n",
       "        <matplotlib.axes._subplots.AxesSubplot object at 0x7f12712ab588>],\n",
       "       [<matplotlib.axes._subplots.AxesSubplot object at 0x7f127124c588>,\n",
       "        <matplotlib.axes._subplots.AxesSubplot object at 0x7f12711ef668>]],\n",
       "      dtype=object)"
      ]
     },
     "execution_count": 10,
     "metadata": {},
     "output_type": "execute_result"
    },
    {
     "data": {
      "image/png": "[encoded data removed]",
      "text/plain": [
       "<matplotlib.figure.Figure at 0x7f12735027f0>"
      ]
     },
     "metadata": {},
     "output_type": "display_data"
    }
   ],
   "source": [
    "pd.scatter_matrix(df[['age','weight']])"
   ]
  },
  {
   "cell_type": "code",
   "execution_count": 9,
   "metadata": {},
   "outputs": [
    {
     "data": {
      "text/plain": [
       "29.583561643835615"
      ]
     },
     "execution_count": 9,
     "metadata": {},
     "output_type": "execute_result"
    }
   ],
   "source": [
    "df['age'].min()/365"
   ]
  }
 ],
 "metadata": {
  "kernelspec": {
   "display_name": "Python 3",
   "language": "python",
   "name": "python3"
  },
  "language_info": {
   "codemirror_mode": {
    "name": "ipython",
    "version": 3
   },
   "file_extension": ".py",
   "mimetype": "text/x-python",
   "name": "python",
   "nbconvert_exporter": "python",
   "pygments_lexer": "ipython3",
   "version": "3.5.2"
  }
 },
 "nbformat": 4,
 "nbformat_minor": 2
}
